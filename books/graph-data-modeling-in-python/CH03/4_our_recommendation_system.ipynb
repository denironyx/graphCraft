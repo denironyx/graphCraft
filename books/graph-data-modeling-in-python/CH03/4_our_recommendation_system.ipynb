{
 "cells": [
  {
   "cell_type": "markdown",
   "metadata": {},
   "source": [
    "### Our Recommendation System\n",
    "We will be design a more robust recommendation process, carried out with graph data.\n",
    "\n",
    "Recommendation systems are used heavily in customer-facing applications, to show the user a product that they may be interested in. Product recommendations are often based on what behaviorally similar users have played and purchased.\n",
    "\n",
    "##### Generic MySQL to igraph methods\n",
    "We will write a set of reusable, geneeric methods to create an igraph graph from columns in a MySQL table. The functions will be designed to create a heterogeneous, bipartile, directed graph, give a set of column names."
   ]
  },
  {
   "cell_type": "code",
   "execution_count": 2,
   "metadata": {},
   "outputs": [],
   "source": [
    "import igraph as ig\n",
    "from graphtastic.database.mysql import query_mysql\n",
    "from graphtastic.igraph.helper import create_igraph_ids"
   ]
  },
  {
   "cell_type": "code",
   "execution_count": 1,
   "metadata": {},
   "outputs": [],
   "source": [
    "def mysql_to_graph(table, source, target, weights, password):\n",
    "    \n",
    "    sql_query = f\"SELECT {source}, {target}, {weights} FROM {table};\"\n",
    "    \n",
    "    data = query_mysql(sql_query, password = password)\n",
    "    \n",
    "    source_nodes = sorted(list(set([source for source, _, _ in data])))\n",
    "    \n",
    "    target_nodes = sorted(list(set([target for _, target, _ in data])))\n",
    "    \n",
    "    # Create a dictionaries using list comprehension\n",
    "    source_igraph_ids = create_igraph_ids(source_nodes)\n",
    "    target_igraph_ids = create_igraph_ids(target_nodes, len(source_igraph_ids))\n",
    "    \n",
    "    # we need to generate an igraph edge list using the pairs in the created dictionaries\n",
    "    edges = [(source_igraph_ids[source], target_igraph_ids[target]) for source, target, _ in data]\n",
    "    weights = [weight for _, _, weight in data]\n",
    "    \n",
    "    # The data is ready to be added to an igraph graph.\n",
    "    g = ig.Graph(directed=True)\n",
    "    g.add_vertices(len(source_nodes + target_nodes))\n",
    "    g.vs['internal_id'] = list(source_igraph_ids.keys()) + list(target_igraph_ids.keys())\n",
    "    g.vs['type'] = ['source' for _ in source_nodes] + ['target' for _ in target_nodes]\n",
    "    g.add_edges(edges)\n",
    "    g.es['weight'] = weights\n",
    "    \n",
    "    return g"
   ]
  },
  {
   "cell_type": "code",
   "execution_count": 4,
   "metadata": {},
   "outputs": [],
   "source": [
    "g = mysql_to_graph('steam_play', 'id', 'game_name', 'hours', password='')"
   ]
  }
 ],
 "metadata": {
  "kernelspec": {
   "display_name": "Python 3",
   "language": "python",
   "name": "python3"
  },
  "language_info": {
   "codemirror_mode": {
    "name": "ipython",
    "version": 3
   },
   "file_extension": ".py",
   "mimetype": "text/x-python",
   "name": "python",
   "nbconvert_exporter": "python",
   "pygments_lexer": "ipython3",
   "version": "3.11.4"
  },
  "orig_nbformat": 4
 },
 "nbformat": 4,
 "nbformat_minor": 2
}
