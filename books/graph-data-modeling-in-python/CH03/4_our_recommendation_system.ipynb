{
 "cells": [
  {
   "cell_type": "markdown",
   "metadata": {},
   "source": [
    "### Our Recommendation System\n",
    "We will be design a more robust recommendation process, carried out with graph data.\n",
    "\n",
    "Recommendation systems are used heavily in customer-facing applications, to show the user a product that they may be interested in. Product recommendations are often based on what behaviorally similar users have played and purchased.\n",
    "\n",
    "##### Generic MySQL to igraph methods\n",
    "We will write a set of reusable, geneeric methods to create an igraph graph from columns in a MySQL table. The functions will be designed to create a heterogeneous, bipartile, directed graph, give a set of column names."
   ]
  },
  {
   "cell_type": "code",
   "execution_count": 2,
   "metadata": {},
   "outputs": [],
   "source": [
    "import igraph as ig\n",
    "from graphtastic.database.mysql import query_mysql\n",
    "from graphtastic.igraph.helper import create_igraph_ids"
   ]
  },
  {
   "cell_type": "code",
   "execution_count": 1,
   "metadata": {},
   "outputs": [],
   "source": [
    "def mysql_to_graph(table, source, target, weights, password):\n",
    "    \n",
    "    sql_query = f\"SELECT {source}, {target}, {weights} FROM {table};\"\n",
    "    \n",
    "    data = query_mysql(sql_query, password = password)\n",
    "    \n",
    "    source_nodes = sorted(list(set([source for source, _, _ in data])))\n",
    "    \n",
    "    target_nodes = sorted(list(set([target for _, target, _ in data])))\n",
    "    \n",
    "    # Create a dictionaries using list comprehension\n",
    "    source_igraph_ids = create_igraph_ids(source_nodes)\n",
    "    target_igraph_ids = create_igraph_ids(target_nodes, len(source_igraph_ids))\n",
    "    \n",
    "    # we need to generate an igraph edge list using the pairs in the created dictionaries\n",
    "    edges = [(source_igraph_ids[source], target_igraph_ids[target]) for source, target, _ in data]\n",
    "    weights = [weight for _, _, weight in data]\n",
    "    \n",
    "    # The data is ready to be added to an igraph graph.\n",
    "    g = ig.Graph(directed=True)\n",
    "    g.add_vertices(len(source_nodes + target_nodes))\n",
    "    g.vs['internal_id'] = list(source_igraph_ids.keys()) + list(target_igraph_ids.keys())\n",
    "    g.vs['type'] = ['source' for _ in source_nodes] + ['target' for _ in target_nodes]\n",
    "    g.add_edges(edges)\n",
    "    g.es['weight'] = weights\n",
    "    \n",
    "    return g"
   ]
  },
  {
   "cell_type": "code",
   "execution_count": 4,
   "metadata": {},
   "outputs": [],
   "source": [
    "g = mysql_to_graph('steam_play', 'id', 'game_name', 'hours', password='')"
   ]
  },
  {
   "cell_type": "markdown",
   "metadata": {},
   "source": [
    "#### A more advanced recommendation system using Jaccard similarity\n",
    "To recommend games more smartly, we are going to implement a solution based on node similarity. Node similarity compares the neighbouring nodes of two nodes and return a score. In our method, we will use Jaccard similarity, available in igraph as `similarity_jaccard()`. The score resulting from `similarity_jaccard()` will be equal to the count of two nodes common neighbors, divided by the number of neighborrs adjacent to atleast one of the two nodes.\n",
    "\n",
    "Relating to our use case, in our Steam graph, user nodes are adjacent to game nodes. So, user nodes that\n",
    "share a high Jaccard similarity with other user nodes play similar games. We can use this information to\n",
    "make new recommendations to our users."
   ]
  },
  {
   "cell_type": "code",
   "execution_count": 13,
   "metadata": {},
   "outputs": [],
   "source": [
    "def prune_graph(g, min_hours):\n",
    "    edges_to_remove = g.es.select(weight_lt=min_hours)\n",
    "    g.delete_edges(edges_to_remove)\n",
    "    return g"
   ]
  },
  {
   "cell_type": "code",
   "execution_count": 14,
   "metadata": {},
   "outputs": [],
   "source": [
    "## Let's define a new function, make_recommendations()\n",
    "def make_recommendation(g, user, min_hours):\n",
    "    \n",
    "    # Lets find the node represented by our user parameter. This wil return a list of one element.\n",
    "    user_node = g.vs.select(internal_id_eq=user)\n",
    "    user_node = user_node[0].index\n",
    "    \n",
    "    # we will use this function to remove edges in our graph based on the number of hours that games have been played\n",
    "    g = prune_graph(g, min_hours)\n",
    "    \n",
    "    other_user_nodes = g.vs.select(type_eq='source')\n",
    "    \n",
    "    pairs = [[user_node, other_user.index] for other_user in other_user_nodes if other_user.index != user_node]\n",
    "    similarities = g.similarity_jaccard(pairs=pairs, mode='out')\n",
    "    node_similarity = [[pair[1], similarity] for pair, similarity in zip(pairs, similarities)]\n",
    "    node_similarity = sorted(node_similarity, key=lambda x: x[1], reverse=True)\n",
    "    most_similar_node = node_similarity[0][0]\n",
    "    game_recommendations = g.vs[g.neighbors(most_similar_node)]['internal_id']\n",
    "    owned_games = g.vs[g.neighbors(user_node)]['internal_id']\n",
    "    new_games = [game for game in game_recommendations if game not in owned_games]\n",
    "    return new_games"
   ]
  },
  {
   "cell_type": "code",
   "execution_count": 17,
   "metadata": {},
   "outputs": [
    {
     "name": "stdout",
     "output_type": "stream",
     "text": [
      "['BLOCKADE 3D', 'Counter-Strike Global Offensive', 'Guns of Icarus Online']\n"
     ]
    }
   ],
   "source": [
    "g = mysql_to_graph('steam_play', 'id', 'game_name', 'hours', password='')\n",
    "recommendations = make_recommendation(g, '87907200', min_hours=0.5)\n",
    "print(recommendations)"
   ]
  }
 ],
 "metadata": {
  "kernelspec": {
   "display_name": "Python 3",
   "language": "python",
   "name": "python3"
  },
  "language_info": {
   "codemirror_mode": {
    "name": "ipython",
    "version": 3
   },
   "file_extension": ".py",
   "mimetype": "text/x-python",
   "name": "python",
   "nbconvert_exporter": "python",
   "pygments_lexer": "ipython3",
   "version": "3.11.4"
  },
  "orig_nbformat": 4
 },
 "nbformat": 4,
 "nbformat_minor": 2
}
