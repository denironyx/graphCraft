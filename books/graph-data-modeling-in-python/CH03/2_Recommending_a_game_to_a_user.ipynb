{
 "cells": [
  {
   "cell_type": "markdown",
   "metadata": {},
   "source": [
    "### Recommending a game to a user"
   ]
  },
  {
   "cell_type": "code",
   "execution_count": 8,
   "metadata": {},
   "outputs": [],
   "source": [
    "import mysql.connector \n",
    "\n",
    "connection = mysql.connector.connect(\n",
    "    host = \"localhost\",\n",
    "    user = \"root\",\n",
    "    passwd = \"password\",\n",
    "    database = \"steam_data\"\n",
    ")\n"
   ]
  },
  {
   "cell_type": "code",
   "execution_count": 9,
   "metadata": {},
   "outputs": [
    {
     "name": "stdout",
     "output_type": "stream",
     "text": [
      "SELECT COUNT(*) FROM steam_play;\n"
     ]
    }
   ],
   "source": [
    "sql = \"SELECT COUNT(*) FROM steam_purchase;\"\n",
    "print(sql)"
   ]
  },
  {
   "cell_type": "code",
   "execution_count": 10,
   "metadata": {},
   "outputs": [
    {
     "name": "stdout",
     "output_type": "stream",
     "text": [
      "[(70488,)]\n"
     ]
    }
   ],
   "source": [
    "cursor = connection.cursor()\n",
    "cursor.execute(sql)\n",
    "result = cursor.fetchall()\n",
    "print(result)\n",
    "cursor.close()"
   ]
  },
  {
   "cell_type": "code",
   "execution_count": 11,
   "metadata": {},
   "outputs": [],
   "source": [
    "from graphtastic.database.mysql import query_mysql"
   ]
  },
  {
   "cell_type": "markdown",
   "metadata": {},
   "source": [
    "The steam_purchase table contains information on user purchases. "
   ]
  },
  {
   "cell_type": "code",
   "execution_count": 14,
   "metadata": {},
   "outputs": [
    {
     "name": "stdout",
     "output_type": "stream",
     "text": [
      "[('151603712', 'Fallout 4', 'purchase', 1.0, 0), ('151603712', 'Spore', 'purchase', 1.0, 0), ('151603712', 'Fallout New Vegas', 'purchase', 1.0, 0), ('151603712', 'Left 4 Dead 2', 'purchase', 1.0, 0), ('151603712', 'HuniePop', 'purchase', 1.0, 0), ('151603712', 'Path of Exile', 'purchase', 1.0, 0), ('151603712', 'Poly Bridge', 'purchase', 1.0, 0), ('151603712', 'Left 4 Dead', 'purchase', 1.0, 0), ('151603712', 'Team Fortress 2', 'purchase', 1.0, 0), ('151603712', 'Tomb Raider', 'purchase', 1.0, 0)]\n"
     ]
    }
   ],
   "source": [
    "result = query_mysql(\"SELECT * FROM steam_purchase LIMIT 5;\", password=PASSWORD)\n",
    "print(result)"
   ]
  },
  {
   "cell_type": "code",
   "execution_count": 15,
   "metadata": {},
   "outputs": [
    {
     "name": "stdout",
     "output_type": "stream",
     "text": [
      "('151603712', 'Fallout 4', 'purchase', 1.0, 0)\n",
      "('151603712', 'Spore', 'purchase', 1.0, 0)\n",
      "('151603712', 'Fallout New Vegas', 'purchase', 1.0, 0)\n",
      "('151603712', 'Left 4 Dead 2', 'purchase', 1.0, 0)\n",
      "('151603712', 'HuniePop', 'purchase', 1.0, 0)\n",
      "('151603712', 'Path of Exile', 'purchase', 1.0, 0)\n",
      "('151603712', 'Poly Bridge', 'purchase', 1.0, 0)\n",
      "('151603712', 'Left 4 Dead', 'purchase', 1.0, 0)\n",
      "('151603712', 'Team Fortress 2', 'purchase', 1.0, 0)\n",
      "('151603712', 'Tomb Raider', 'purchase', 1.0, 0)\n"
     ]
    }
   ],
   "source": [
    "for row in result:\n",
    "    print(row)"
   ]
  },
  {
   "cell_type": "markdown",
   "metadata": {},
   "source": [
    "In the steam_price table, the first column again contains a unique user ID. As with steam_play, the second column contains a game's name. The third column always contains the purchase string. The fourth column in this table always contains floatt 1.0, indicating the purchase of that row's game, by the user."
   ]
  },
  {
   "cell_type": "markdown",
   "metadata": {},
   "source": [
    "### Path-based analytics in tabular data\n",
    "\n",
    "Now that we have an idea of what our tables contain, we can ask some questions about our data. For\n",
    "example, we can ask, “What other games may a user enjoy, based on their previous purchase habits?”\n",
    "This type of question forms the basis of a recommendation system, used across the sales and marketing\n",
    "industry to drive additional customer purchases.\n",
    "\n",
    "At a glance, we can see that there is data for user 151603712 in both the steam_play\n",
    "and steam_purchase tables. So, users in our datasets have data about both the purchase\n",
    "of games and play time. From a brief look into the data, we can see that there are plenty of\n",
    "columns that we won’t need going forward, so we can start to exclude them from our analysis\n",
    "by querying specific rows."
   ]
  },
  {
   "cell_type": "code",
   "execution_count": null,
   "metadata": {},
   "outputs": [],
   "source": []
  }
 ],
 "metadata": {
  "kernelspec": {
   "display_name": "Python 3",
   "language": "python",
   "name": "python3"
  },
  "language_info": {
   "codemirror_mode": {
    "name": "ipython",
    "version": 3
   },
   "file_extension": ".py",
   "mimetype": "text/x-python",
   "name": "python",
   "nbconvert_exporter": "python",
   "pygments_lexer": "ipython3",
   "version": "3.11.4"
  },
  "orig_nbformat": 4
 },
 "nbformat": 4,
 "nbformat_minor": 2
}
