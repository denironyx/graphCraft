{
 "cells": [
  {
   "cell_type": "markdown",
   "metadata": {},
   "source": [
    "### From relational to graph databases\n",
    "Due to the poor performance of our relational database in answering graph-like questions, we may\n",
    "want to move our tabular data into a graph format.\n",
    "First, we will consider a sensible graph schema for our data, based on the information we have available,\n",
    "before writing a pipeline to move data from MySQL into a Python igraph network. By doing this, we\n",
    "can benchmark how a graphical approach to our path-based question performs, in comparison to\n",
    "the same question we answered with SQL."
   ]
  },
  {
   "cell_type": "markdown",
   "metadata": {},
   "source": [
    "#### Schema design\n",
    "In our tables, we have two types of entities, users and games, which have different properties. Because\n",
    "of this, it is wise to consider users and games as different node types.\n",
    "For users, we only have a unique ID for each user. To add data to an igraph graph, we will need to add\n",
    "an increasing integer igraph node ID for each distinct node, as we learned in Chapter 1, Introducing\n",
    "Graphs in the Real World, and Chapter 2, Working with Graph Data Models."
   ]
  },
  {
   "cell_type": "code",
   "execution_count": 1,
   "metadata": {},
   "outputs": [],
   "source": [
    "from graphtastic.database.mysql import query_mysql"
   ]
  },
  {
   "cell_type": "code",
   "execution_count": 4,
   "metadata": {},
   "outputs": [
    {
     "name": "stdout",
     "output_type": "stream",
     "text": [
      "[('151603712', 'Fallout 4', 87.0), ('151603712', 'Spore', 14.9), ('151603712', 'Fallout New Vegas', 12.1), ('151603712', 'Left 4 Dead 2', 8.9), ('151603712', 'HuniePop', 8.5), ('151603712', 'Path of Exile', 8.1), ('151603712', 'Poly Bridge', 7.5), ('151603712', 'Left 4 Dead', 3.3), ('151603712', 'Team Fortress 2', 2.8), ('151603712', 'Tomb Raider', 2.5)]\n"
     ]
    }
   ],
   "source": [
    "play_query = \"SELECT id, game_name, hours FROM steam_play;\"\n",
    "\n",
    "play_data = query_mysql(play_query, password=\"Met/14/7472\")\n",
    "print(play_data[:10])"
   ]
  },
  {
   "cell_type": "code",
   "execution_count": 5,
   "metadata": {},
   "outputs": [
    {
     "name": "stdout",
     "output_type": "stream",
     "text": [
      "[('151603712', 'Fallout 4'), ('151603712', 'Spore'), ('151603712', 'Fallout New Vegas'), ('151603712', 'Left 4 Dead 2'), ('151603712', 'HuniePop'), ('151603712', 'Path of Exile'), ('151603712', 'Poly Bridge'), ('151603712', 'Left 4 Dead'), ('151603712', 'Team Fortress 2'), ('151603712', 'Tomb Raider')]\n"
     ]
    }
   ],
   "source": [
    "purchase_query = \"SELECT id, game_name FROM steam_purchase;\"\n",
    "purchase_data = query_mysql(purchase_query, password=\"Met/14/7472\")\n",
    "print(purchase_data[:10])"
   ]
  },
  {
   "cell_type": "markdown",
   "metadata": {},
   "source": [
    "In play_data, we have information on users, the games they have played, and the time they\n",
    "have spent playing each game. In purchase_data, we only need users and the games they\n",
    "have purchased.\n",
    "\n",
    "Next, as stated in the process of schema design, to use igraph, we will need to add an increasing\n",
    "integer igraph node ID to both the User and Game nodes, starting from 0."
   ]
  },
  {
   "cell_type": "code",
   "execution_count": 10,
   "metadata": {},
   "outputs": [
    {
     "name": "stdout",
     "output_type": "stream",
     "text": [
      "12393\n"
     ]
    }
   ],
   "source": [
    "users = set([row[0] for row in play_data] + [row[0] for row in purchase_data])\n",
    "user_ids = {user_id: igraph_id for igraph_id, user_id in enumerate(users)}\n",
    "print(len(user_ids))"
   ]
  },
  {
   "cell_type": "markdown",
   "metadata": {},
   "source": [
    "The following lines of code will generate a set() of unique user IDs and users in both the `play_data` and `purchase_data` list. \n",
    "\n",
    "Then, a combination of a dictionary comprehension and the enumerate() method will generate a dictionary with keys containing Steam users IDs, and values containing our igraph IDs. "
   ]
  },
  {
   "cell_type": "code",
   "execution_count": 11,
   "metadata": {},
   "outputs": [
    {
     "name": "stdout",
     "output_type": "stream",
     "text": [
      "5155\n"
     ]
    }
   ],
   "source": [
    "games = set([row[1] for row in play_data] + [row[1] for row in purchase_data])\n",
    "game_ids = {user_id: igraph_id for igraph_id, user_id in enumerate(games, len(user_ids))}\n",
    "print(len(game_ids))"
   ]
  },
  {
   "cell_type": "markdown",
   "metadata": {},
   "source": [
    "As with users, our print statement shows the number of unique games in our datasets, 5155. Using enumerate() with the second parameter should avoid any ID conflicts between users and games. "
   ]
  },
  {
   "cell_type": "code",
   "execution_count": 12,
   "metadata": {},
   "outputs": [
    {
     "name": "stdout",
     "output_type": "stream",
     "text": [
      "[12392, 12391, 12390, 12389, 12388, 12387, 12386, 12385, 12384, 12383]\n",
      "[12393, 12394, 12395, 12396, 12397, 12398, 12399, 12400, 12401, 12402]\n"
     ]
    }
   ],
   "source": [
    "print(sorted(user_ids.values(), reverse=True)[:10])\n",
    "print(sorted(game_ids.values(), reverse=False)[:10])"
   ]
  },
  {
   "cell_type": "markdown",
   "metadata": {},
   "source": [
    "This shows that the highest generated ID for users is 12,392, while the lowest generated ID for games is 12393, as expected. "
   ]
  },
  {
   "cell_type": "code",
   "execution_count": 13,
   "metadata": {},
   "outputs": [],
   "source": [
    "all_ids = sorted(list(user_ids.values()) + list(game_ids.values()))\n",
    "assert all_ids == list(range(len(all_ids)))"
   ]
  },
  {
   "cell_type": "markdown",
   "metadata": {},
   "source": [
    "Because this assert statement raises no exceptions, we can be confident that our generated IDs have been created correctly."
   ]
  },
  {
   "cell_type": "markdown",
   "metadata": {},
   "source": [
    "##### Building Graph "
   ]
  },
  {
   "cell_type": "code",
   "execution_count": 14,
   "metadata": {},
   "outputs": [],
   "source": [
    "import igraph as ig\n",
    "g = ig.Graph(directed=True)"
   ]
  },
  {
   "cell_type": "code",
   "execution_count": 15,
   "metadata": {},
   "outputs": [],
   "source": [
    "users_ids =  dict(sorted(user_ids.items(), key=lambda item: item[1]))\n",
    "game_ids = dict(sorted(game_ids.items(), key=lambda item: item[1]))\n",
    "\n",
    "# We can now take the keys from these dictionaries and convert them into lists, ready  to be added as propertiess\n",
    "steam_user_ids = list(user_ids.keys())\n",
    "steam_game_ids = list(game_ids.keys())"
   ]
  },
  {
   "cell_type": "code",
   "execution_count": 17,
   "metadata": {},
   "outputs": [],
   "source": [
    "g.add_vertices(len(steam_user_ids) + len(steam_game_ids))\n",
    "assert len(g.vs) == len(steam_user_ids) + len(steam_game_ids)"
   ]
  },
  {
   "cell_type": "code",
   "execution_count": 19,
   "metadata": {},
   "outputs": [],
   "source": [
    "all_steam_ids = steam_user_ids + steam_game_ids\n",
    "#print(all_steam_ids)"
   ]
  },
  {
   "cell_type": "code",
   "execution_count": 20,
   "metadata": {},
   "outputs": [],
   "source": [
    "# Let's also use list comprehension to create a list containing our nodes types\n",
    "node_types = ['user' for _ in steam_user_ids] + ['game' for _ in steam_game_ids]"
   ]
  },
  {
   "cell_type": "markdown",
   "metadata": {},
   "source": [
    "With our lists prepared, we can now add properties listwise to all the nodes in our graph by\n",
    "accessing the vs attribute of our igraph Graph() object:"
   ]
  },
  {
   "cell_type": "code",
   "execution_count": 23,
   "metadata": {},
   "outputs": [],
   "source": [
    "g.vs['steam_id'] = all_steam_ids\n",
    "g.vs['type'] = node_types"
   ]
  },
  {
   "cell_type": "code",
   "execution_count": 25,
   "metadata": {},
   "outputs": [
    {
     "name": "stdout",
     "output_type": "stream",
     "text": [
      "['208513774', '130931340', '188250158', '127461395', '66748534', '27168078', '159424645', '152741550', '229203462', '158959728']\n",
      "['user', 'user', 'user', 'user', 'user', 'user', 'user', 'user', 'user', 'user']\n",
      "5155\n"
     ]
    }
   ],
   "source": [
    "print(g.vs['steam_id'][:10])\n",
    "print(g.vs['type'][:10])\n",
    "\n",
    "game_nodes = g.vs.select(type_eq='game')\n",
    "\n",
    "print(len(game_nodes))"
   ]
  },
  {
   "cell_type": "markdown",
   "metadata": {},
   "source": [
    "Next, we need to add edges to our graph. Edges are contained in both the data from steam_purchase and steam_play, now contained in the purchase_data and play_data variables.\n",
    "\n",
    "Let's generate the edges for both of these types of transactions by finding the igraph IDs for the users and games."
   ]
  },
  {
   "cell_type": "code",
   "execution_count": 26,
   "metadata": {},
   "outputs": [],
   "source": [
    "purchase_edges = [[user_ids[user], game_ids[purchase]] for user, purchase in purchase_data]\n",
    "\n",
    "play_edges = [[user_ids[user], game_ids[game], hours] for user, game, hours in play_data]"
   ]
  },
  {
   "cell_type": "markdown",
   "metadata": {},
   "source": [
    "For play_edges, the number of hours is also included, so we can add this to our graph as edge properties. Let's add the PLAYED edges first along with thier hoursr attribute, in listwise fashion, using more list comprehensions."
   ]
  },
  {
   "cell_type": "code",
   "execution_count": 27,
   "metadata": {},
   "outputs": [],
   "source": [
    "g.add_edges([(n, m) for n, m, _ in play_edges])\n",
    "g.es['hours'] = [hours for _, _, hours in play_edges]"
   ]
  },
  {
   "cell_type": "markdown",
   "metadata": {},
   "source": [
    "Now, we can add the edges representing the purchased relationships. There are no attributes to add to our dataset that are specifically related to a game's purchase, so we can just use the following "
   ]
  },
  {
   "cell_type": "code",
   "execution_count": 28,
   "metadata": {},
   "outputs": [],
   "source": [
    "g.add_edges(purchase_edges)"
   ]
  },
  {
   "cell_type": "markdown",
   "metadata": {},
   "source": [
    "Finally, to complete this graph, we can add edge_type as an edge attribute to all edges"
   ]
  },
  {
   "cell_type": "code",
   "execution_count": 29,
   "metadata": {},
   "outputs": [],
   "source": [
    "edge_type = ['PLAYED' for _ in play_edges] + ['PURCHASED' for _ in purchase_edges]\n",
    "g.es['edge_type'] = edge_type"
   ]
  },
  {
   "cell_type": "code",
   "execution_count": 30,
   "metadata": {},
   "outputs": [
    {
     "name": "stdout",
     "output_type": "stream",
     "text": [
      "39\n"
     ]
    }
   ],
   "source": [
    "user_id_ex = g.vs.select(steam_id_eq='151603712')[0].index\n",
    "purchased_ex = g.es.select(_source_eq=user_id_ex, edge_type='PURCHASED')\n",
    "print(len(list(purchased_ex)))"
   ]
  }
 ],
 "metadata": {
  "kernelspec": {
   "display_name": "Python 3",
   "language": "python",
   "name": "python3"
  },
  "language_info": {
   "codemirror_mode": {
    "name": "ipython",
    "version": 3
   },
   "file_extension": ".py",
   "mimetype": "text/x-python",
   "name": "python",
   "nbconvert_exporter": "python",
   "pygments_lexer": "ipython3",
   "version": "3.11.4"
  },
  "orig_nbformat": 4
 },
 "nbformat": 4,
 "nbformat_minor": 2
}
