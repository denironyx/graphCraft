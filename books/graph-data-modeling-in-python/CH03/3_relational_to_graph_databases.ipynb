{
 "cells": [
  {
   "cell_type": "markdown",
   "metadata": {},
   "source": [
    "### From relational to graph databases\n",
    "Due to the poor performance of our relational database in answering graph-like questions, we may\n",
    "want to move our tabular data into a graph format.\n",
    "First, we will consider a sensible graph schema for our data, based on the information we have available,\n",
    "before writing a pipeline to move data from MySQL into a Python igraph network. By doing this, we\n",
    "can benchmark how a graphical approach to our path-based question performs, in comparison to\n",
    "the same question we answered with SQL."
   ]
  },
  {
   "cell_type": "code",
   "execution_count": null,
   "metadata": {},
   "outputs": [],
   "source": []
  }
 ],
 "metadata": {
  "language_info": {
   "name": "python"
  },
  "orig_nbformat": 4
 },
 "nbformat": 4,
 "nbformat_minor": 2
}
