{
 "cells": [
  {
   "cell_type": "markdown",
   "metadata": {},
   "source": [
    "### Introducing Knowledge Graphs\n",
    "In complex fields, such as science and medicine, the sheer amount of data and literature available on specific topics is hard to overstate. The same goes for knowledge management in established companies and industries where, over time, institutional knowledge in the form of textual information builds up, becoming too large to sensibly disseminate. In both of these case, a knowledge graph may help to alleviate issues associated with too much disparate information.\n",
    "\n",
    "The quality of text data has a large impact on the preparation of data for knowledge graph ingestion."
   ]
  },
  {
   "cell_type": "markdown",
   "metadata": {},
   "source": [
    "#### Cleaning the data for our knowledge graph\n",
    "\n",
    "Knowledge graphs typically contain relationships that represent commonalities between related documents and are built up using the content within those documents text. For this reason, a large part of knowledge graph construction is cleaning and preparing that text for later graph creation.\n",
    "\n",
    "Let’s begin by taking a look at the raw abstract data in 20k_abstracts.txt."
   ]
  },
  {
   "cell_type": "code",
   "execution_count": 1,
   "metadata": {},
   "outputs": [],
   "source": [
    "## Import the raw abstract data\n",
    "import csv\n",
    "with open('./data/20k_abstracts.txt') as c:\n",
    "    reader = csv.reader(c, delimiter='\\t')\n",
    "    data = [line for line in reader if line != []]"
   ]
  },
  {
   "cell_type": "markdown",
   "metadata": {},
   "source": [
    "With our data loaded, we can now convert it into a different format. We want to concatenate\n",
    "each of the sentences in an abstract into one whole abstract – at present the sentences are on\n",
    "different lines – as well as removing unnecessary data."
   ]
  },
  {
   "cell_type": "code",
   "execution_count": 10,
   "metadata": {},
   "outputs": [
    {
     "data": {
      "text/plain": [
       "[['###24290286'],\n",
       " ['BACKGROUND',\n",
       "  'IgE sensitization to Aspergillus fumigatus and a positive sputum fungal culture result are common in patients with refractory asthma .'],\n",
       " ['BACKGROUND',\n",
       "  'It is not clear whether these patients would benefit from antifungal treatment .']]"
      ]
     },
     "execution_count": 10,
     "metadata": {},
     "output_type": "execute_result"
    }
   ],
   "source": [
    "data[:3]"
   ]
  },
  {
   "cell_type": "code",
   "execution_count": null,
   "metadata": {},
   "outputs": [],
   "source": [
    "clean_data = []\n",
    "abstract = ''\n",
    "\n",
    "for line in data[1:]:\n",
    "    if len(line) == 1:\n",
    "        clean_data.append(abstract)\n",
    "        abstract = ''\n",
    "    else:\n",
    "        abstract += ' ' + line[1]"
   ]
  }
 ],
 "metadata": {
  "kernelspec": {
   "display_name": "Python 3",
   "language": "python",
   "name": "python3"
  },
  "language_info": {
   "codemirror_mode": {
    "name": "ipython",
    "version": 3
   },
   "file_extension": ".py",
   "mimetype": "text/x-python",
   "name": "python",
   "nbconvert_exporter": "python",
   "pygments_lexer": "ipython3",
   "version": "3.11.4"
  },
  "orig_nbformat": 4
 },
 "nbformat": 4,
 "nbformat_minor": 2
}
