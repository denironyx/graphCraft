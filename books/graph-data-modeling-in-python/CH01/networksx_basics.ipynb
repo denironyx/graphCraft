{
 "cells": [
  {
   "cell_type": "markdown",
   "metadata": {},
   "source": [
    "### NetworkX basics\n",
    "NetworkX is one of the originally available graph libraries for Python and is particularly focused on being user-friendly and Pythonic in its style."
   ]
  },
  {
   "cell_type": "code",
   "execution_count": 1,
   "metadata": {},
   "outputs": [],
   "source": [
    "# To import NetworksX into Python, use the following commands:\n",
    "import networkx as nx\n",
    "\n",
    "# And to create an empty graph, g, use the following command.\n",
    "g = nx.Graph()"
   ]
  },
  {
   "cell_type": "code",
   "execution_count": 4,
   "metadata": {},
   "outputs": [],
   "source": [
    "# Now we can add nodes to our graph\n",
    "g.add_node(\"Dennis\")\n",
    "\n",
    "# Alternatively, multiple nodes can be added to the graph at once, like\n",
    "g.add_nodes_from([\"Love\", \"Daniel\"])"
   ]
  },
  {
   "cell_type": "code",
   "execution_count": 5,
   "metadata": {},
   "outputs": [
    {
     "name": "stdout",
     "output_type": "stream",
     "text": [
      "Graph with 3 nodes and 0 edges. Current nodes in networks: ['Dennis', 'Love', 'Daniel']\n"
     ]
    }
   ],
   "source": [
    "print(f\"{g}. Current nodes in networks: {g.nodes}\")"
   ]
  },
  {
   "cell_type": "code",
   "execution_count": 7,
   "metadata": {},
   "outputs": [
    {
     "name": "stdout",
     "output_type": "stream",
     "text": [
      "['Dennis', 'Love', 'Daniel']\n"
     ]
    }
   ],
   "source": [
    "# Properties can be added to nodes during creation by passing a node and dictionary tuple to Graph\n",
    "g.add_nodes_from([(\n",
    "                \"Dennis\", {\"followers\": 1000}),\n",
    "                  (\"Love\", {\"followers\": 1200}),\n",
    "                  (\"Daniel\", {\"followers\": 1300})])\n",
    "print(g.nodes)"
   ]
  },
  {
   "cell_type": "code",
   "execution_count": 9,
   "metadata": {},
   "outputs": [],
   "source": [
    "# To add an edge to the graph, we can use the Graph.add_edge method\n",
    "g.add_edge(\"Dennis\", \"Love\")"
   ]
  },
  {
   "cell_type": "code",
   "execution_count": 12,
   "metadata": {},
   "outputs": [
    {
     "data": {
      "image/png": "[encoded data removed]",
      "text/plain": [
       "<Figure size 640x480 with 1 Axes>"
      ]
     },
     "metadata": {},
     "output_type": "display_data"
    }
   ],
   "source": [
    "# To confirm that our graph now contains nodes and edges, we maay want to plot it\n",
    "import matplotlib.pyplot as plt\n",
    "nx.draw(g, with_labels = True)\n",
    "plt.show()"
   ]
  },
  {
   "cell_type": "markdown",
   "metadata": {},
   "source": [
    "### igraph basics\n",
    "NetworkX, while user-friendly, suffers from slow speeds when using larger graphs. This is due to its implementation behind the scenes and because it is written in Python, with some C, C++, and FORTRAN."
   ]
  },
  {
   "cell_type": "code",
   "execution_count": 13,
   "metadata": {},
   "outputs": [],
   "source": [
    "# To import igraph into Python\n",
    "import igraph as ig\n",
    "\n",
    "# and to create an empty graph, g, use the following command:\n",
    "g = ig.Graph()"
   ]
  },
  {
   "cell_type": "code",
   "execution_count": 14,
   "metadata": {},
   "outputs": [],
   "source": [
    "# Similar to NetworkX, changes can be made to a graph by using the methods of a Graph object.\n",
    "g.add_vertices(2)"
   ]
  },
  {
   "cell_type": "code",
   "execution_count": 15,
   "metadata": {},
   "outputs": [],
   "source": [
    "# This will add nodes 0 and 1 to the graph. To name them, we have to assign properties to the nodes\n",
    "g.vs[0][\"name\"] = \"Dennis\"\n",
    "g.vs[1][\"name\"] = \"Love\"\n",
    "g.vs[0][\"followers\"] = 130\n",
    "g.vs[1][\"followers\"] = 2100"
   ]
  },
  {
   "cell_type": "code",
   "execution_count": 17,
   "metadata": {},
   "outputs": [],
   "source": [
    "# Node propertiies can also be added listwise, where the first list element corresponds to node ID 0, the second to node ID 1, and so on.\n",
    "g.vs[\"name\"] = [\"Denns\", \"Love\"]\n",
    "g.vs[\"followers\"] = [\"130\", \"2100\"]"
   ]
  },
  {
   "cell_type": "code",
   "execution_count": 18,
   "metadata": {},
   "outputs": [],
   "source": [
    "# To add an edge, we can use Graph.add_edges() method:\n",
    "g.add_edges([(0,1)])"
   ]
  }
 ],
 "metadata": {
  "kernelspec": {
   "display_name": "Python 3",
   "language": "python",
   "name": "python3"
  },
  "language_info": {
   "codemirror_mode": {
    "name": "ipython",
    "version": 3
   },
   "file_extension": ".py",
   "mimetype": "text/x-python",
   "name": "python",
   "nbconvert_exporter": "python",
   "pygments_lexer": "ipython3",
   "version": "3.11.4"
  },
  "orig_nbformat": 4
 },
 "nbformat": 4,
 "nbformat_minor": 2
}
