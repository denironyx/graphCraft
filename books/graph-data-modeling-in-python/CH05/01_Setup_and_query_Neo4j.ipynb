{
 "cells": [
  {
   "cell_type": "markdown",
   "metadata": {},
   "source": [
    "### Using Graph Databases\n",
    "For this chapter, you will need to start by going through the following steps:\n",
    "1. Install Neo4j Desktop, which is free. Primarily, we will be using Neo4j for its long-term graph\n",
    "database storage, though Neo4j Desktop installs a desktop graph browser alongside this. To\n",
    "install Neo4j Desktop, go to https://neo4j.com/download-center/#desktop and\n",
    "fill out some details. Make a note of the activation key as you will need this during installation\n",
    "and select the relevant operating system installation for your machine.\n",
    "2. Once Neo4j is installed, open Neo4j Desktop and create a new database (this can be achieved by\n",
    "navigating to the database tabs in the application and using the Add dropdown to create a new\n",
    "local DBMS) with a unique name, for example, Python DB. For the purposes of this chapter,\n",
    "use a password for this database that you are comfortable with writing in open code – we will\n",
    "be using testpython. In a real Neo4j setup, you would likely want to mask this password\n",
    "through the use of encryption, but that is beyond the scope of this chapter.\n",
    "These steps will be covered in greater detail in the next section, so hold your horses"
   ]
  },
  {
   "cell_type": "markdown",
   "metadata": {},
   "source": [
    "##### Querying Neo4j from Python\n",
    "With Neo4j installed, we are ready to connect to the database through Python. To do this, we will be\n",
    "using the neo4j Python module, which contains everything we need to connect to the database and\n",
    "send queries to it from a Python script. We will iterate through this in the following steps:\n",
    "1. Let’s start by creating a driver object for the Python-to-Neo4j connection. We will first need to\n",
    "import the GraphDatabase class from the neo4j module. Then, to create the driver, we will\n",
    "need to supply the uri, username, and password parameters to the GraphDatabase.\n",
    "driver() function:"
   ]
  },
  {
   "cell_type": "code",
   "execution_count": 9,
   "metadata": {},
   "outputs": [],
   "source": [
    "from neo4j import GraphDatabase\n",
    "driver = GraphDatabase.driver(uri='bolt://localhost:7687', auth=('admin', 'testpython'))\n",
    "session = driver.session()"
   ]
  },
  {
   "cell_type": "markdown",
   "metadata": {},
   "source": [
    "With our session set up, we are now ready to query the database. For this example, we will add the query parameter to be used to create the graph relationship to our Neo4j"
   ]
  },
  {
   "cell_type": "code",
   "execution_count": 7,
   "metadata": {},
   "outputs": [],
   "source": [
    "query = 'CREATE (:Person {name: \"Dennis\"}) - [:FOLLOWS] -> (:Person {name: \"Love\"})'\n",
    "result = session.run(query)\n",
    "driver.close()"
   ]
  },
  {
   "cell_type": "code",
   "execution_count": 10,
   "metadata": {},
   "outputs": [
    {
     "name": "stdout",
     "output_type": "stream",
     "text": [
      "[{'n': {'name': 'Love'}}, {'n': {'name': 'Dennis'}}]\n",
      "[{'e': ({}, 'FOLLOWS', {})}]\n"
     ]
    }
   ],
   "source": [
    "## Read queries in Python\n",
    "node_query = 'MATCH (n:Person) RETURN n'\n",
    "edge_query = 'MATCH () - [e:FOLLOWS] ->() RETURN e'\n",
    "\n",
    "# Now, we can run both queries, before closing the connection.\n",
    "node_result = session.run(node_query).data()\n",
    "edge_result = session.run(edge_query).data()\n",
    "driver.close()\n",
    "\n",
    "print(node_result)\n",
    "print(edge_result)"
   ]
  },
  {
   "cell_type": "markdown",
   "metadata": {},
   "source": [
    "Printing our results shows that we have two results for n, which each contains one of our added\n",
    "Person nodes. We also see that we found one FOLLOWS edge, confirming that our write\n",
    "process ran as intended.\n",
    "\n",
    "At this point, you may notice that to interface Python with Neo4j, we will be running these\n",
    "types of queries regularly. For this reason, we will create a reusable Python class to handle\n",
    "connections and queries to the database, removing the need to manually connect to the database\n",
    "every time we run a query."
   ]
  },
  {
   "cell_type": "code",
   "execution_count": 11,
   "metadata": {},
   "outputs": [
    {
     "name": "stdout",
     "output_type": "stream",
     "text": [
      "[{'n': {'name': 'Love'}}, {'n': {'name': 'Dennis'}}]\n",
      "[{'e': ({}, 'FOLLOWS', {})}]\n"
     ]
    }
   ],
   "source": [
    "from graphtastic.database.neo4j import Neo4jConnect\n",
    "\n",
    "connection = Neo4jConnect('bolt://localhost:7687', 'admin', 'testpython')\n",
    "\n",
    "node_query = 'MATCH (n:Person) RETURN n'\n",
    "edge_query = 'MATCH () - [e:FOLLOWS] ->() RETURN e'\n",
    "\n",
    "node_result = connection.query(node_query).data()\n",
    "edge_result = connection.query(edge_query).data()\n",
    "\n",
    "connection.close()\n",
    "\n",
    "print(node_result)\n",
    "print(edge_result)"
   ]
  }
 ],
 "metadata": {
  "kernelspec": {
   "display_name": "Python 3",
   "language": "python",
   "name": "python3"
  },
  "language_info": {
   "codemirror_mode": {
    "name": "ipython",
    "version": 3
   },
   "file_extension": ".py",
   "mimetype": "text/x-python",
   "name": "python",
   "nbconvert_exporter": "python",
   "pygments_lexer": "ipython3",
   "version": "3.11.4"
  },
  "orig_nbformat": 4
 },
 "nbformat": 4,
 "nbformat_minor": 2
}
