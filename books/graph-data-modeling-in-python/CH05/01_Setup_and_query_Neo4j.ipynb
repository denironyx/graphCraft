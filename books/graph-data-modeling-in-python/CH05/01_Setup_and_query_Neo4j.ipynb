{
 "cells": [
  {
   "cell_type": "markdown",
   "metadata": {},
   "source": [
    "### Using Graph Databases\n",
    "For this chapter, you will need to start by going through the following steps:\n",
    "1. Install Neo4j Desktop, which is free. Primarily, we will be using Neo4j for its long-term graph\n",
    "database storage, though Neo4j Desktop installs a desktop graph browser alongside this. To\n",
    "install Neo4j Desktop, go to https://neo4j.com/download-center/#desktop and\n",
    "fill out some details. Make a note of the activation key as you will need this during installation\n",
    "and select the relevant operating system installation for your machine.\n",
    "2. Once Neo4j is installed, open Neo4j Desktop and create a new database (this can be achieved by\n",
    "navigating to the database tabs in the application and using the Add dropdown to create a new\n",
    "local DBMS) with a unique name, for example, Python DB. For the purposes of this chapter,\n",
    "use a password for this database that you are comfortable with writing in open code – we will\n",
    "be using testpython. In a real Neo4j setup, you would likely want to mask this password\n",
    "through the use of encryption, but that is beyond the scope of this chapter.\n",
    "These steps will be covered in greater detail in the next section, so hold your horses"
   ]
  },
  {
   "cell_type": "code",
   "execution_count": null,
   "metadata": {},
   "outputs": [],
   "source": []
  }
 ],
 "metadata": {
  "language_info": {
   "name": "python"
  },
  "orig_nbformat": 4
 },
 "nbformat": 4,
 "nbformat_minor": 2
}
