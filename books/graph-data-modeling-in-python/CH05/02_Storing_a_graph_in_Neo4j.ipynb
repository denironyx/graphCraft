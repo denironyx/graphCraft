{
 "cells": [
  {
   "cell_type": "markdown",
   "metadata": {},
   "source": [
    "### Storing a graph in Neo4j\n",
    "\n",
    "With our graph database set up, and our methods for interacting with Neo4j written, we can start to\n",
    "use Python and Neo4j to store and explore our graph data.\n",
    "In this section, we will be looking at an air travel network between the US and Canada and analyzing\n",
    "its properties to find efficient routes between locations.\n",
    "\n",
    "#### Preprocessing data\n",
    "To begin, let’s take a look at our data (sourced from Stanford University: https://snap.\n",
    "stanford.edu/data/reachability.html). We have two files, reachability_250.\n",
    "txt and reachability-meta.csv."
   ]
  },
  {
   "cell_type": "code",
   "execution_count": 2,
   "metadata": {},
   "outputs": [],
   "source": [
    "import csv\n",
    "with open('./data/reachability_250.txt', 'r') as txt:\n",
    "    reader = csv.reader(txt, delimiter=' ')\n",
    "    edges = [edge for edge in reader][6:]\n",
    "    edges = [[edge[0], edge[1], int(edge[2])*-1] for edge in edges]\n",
    "    \n",
    "with open('./data/reachability.csv', 'w', newline='') as c:\n",
    "    writer = csv.writer(c)\n",
    "    for edge in edges:\n",
    "        writer.writerow(edge)"
   ]
  },
  {
   "cell_type": "markdown",
   "metadata": {},
   "source": [
    "#### Moving nodes, edges, and properties to Neo4j\n",
    "\n",
    "We will be using Python to write to our Neo4j database. We will need to first write some Cypher\n",
    "queries that we will later get Python to send to Neo4j.\n",
    "At this stage, we should also make sure that our Neo4j database is empty; if not, the MATCH (n)\n",
    "DETACH DELETE n query can be run in the Neo4j Browser window before starting.\n",
    "\n",
    "Our Cypher scripts will read data from CSV files, which on a local installation of Neo4j should be in\n",
    "a specific folder that Neo4j can access. Follow these steps to get the data into Neo4j:"
   ]
  },
  {
   "cell_type": "code",
   "execution_count": null,
   "metadata": {},
   "outputs": [],
   "source": [
    "LOAD CSV WITH HEADERS FROM 'file:///reachability-meta.csv' as\n",
    "row\n",
    "CREATE (city:City {\n",
    "    node_id: toInteger(row.node_id),\n",
    "    name: row.name,\n",
    "    population: toInteger(row.metro_pop),\n",
    "    latitude: toFloat(row.latitude),\n",
    "    longitude: toFloat(row.longitude)\n",
    "})"
   ]
  }
 ],
 "metadata": {
  "kernelspec": {
   "display_name": "Python 3",
   "language": "python",
   "name": "python3"
  },
  "language_info": {
   "codemirror_mode": {
    "name": "ipython",
    "version": 3
   },
   "file_extension": ".py",
   "mimetype": "text/x-python",
   "name": "python",
   "nbconvert_exporter": "python",
   "pygments_lexer": "ipython3",
   "version": "3.11.4"
  },
  "orig_nbformat": 4
 },
 "nbformat": 4,
 "nbformat_minor": 2
}
