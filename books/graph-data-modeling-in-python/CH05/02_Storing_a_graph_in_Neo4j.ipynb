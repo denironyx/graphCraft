{
 "cells": [
  {
   "cell_type": "markdown",
   "metadata": {},
   "source": [
    "### Storing a graph in Neo4j\n",
    "\n",
    "With our graph database set up, and our methods for interacting with Neo4j written, we can start to\n",
    "use Python and Neo4j to store and explore our graph data.\n",
    "In this section, we will be looking at an air travel network between the US and Canada and analyzing\n",
    "its properties to find efficient routes between locations.\n",
    "\n",
    "#### Preprocessing data\n",
    "To begin, let’s take a look at our data (sourced from Stanford University: https://snap.\n",
    "stanford.edu/data/reachability.html). We have two files, reachability_250.\n",
    "txt and reachability-meta.csv."
   ]
  },
  {
   "cell_type": "code",
   "execution_count": 2,
   "metadata": {},
   "outputs": [],
   "source": [
    "import csv\n",
    "with open('./data/reachability_250.txt', 'r') as txt:\n",
    "    reader = csv.reader(txt, delimiter=' ')\n",
    "    edges = [edge for edge in reader][6:]\n",
    "    edges = [[edge[0], edge[1], int(edge[2])*-1] for edge in edges]\n",
    "    \n",
    "with open('./data/reachability.csv', 'w', newline='') as c:\n",
    "    writer = csv.writer(c)\n",
    "    for edge in edges:\n",
    "        writer.writerow(edge)"
   ]
  },
  {
   "cell_type": "markdown",
   "metadata": {},
   "source": [
    "#### Moving nodes, edges, and properties to Neo4j\n",
    "\n",
    "We will be using Python to write to our Neo4j database. We will need to first write some Cypher\n",
    "queries that we will later get Python to send to Neo4j.\n",
    "At this stage, we should also make sure that our Neo4j database is empty; if not, the MATCH (n)\n",
    "DETACH DELETE n query can be run in the Neo4j Browser window before starting.\n",
    "\n",
    "Our Cypher scripts will read data from CSV files, which on a local installation of Neo4j should be in\n",
    "a specific folder that Neo4j can access. Follow these steps to get the data into Neo4j:\n",
    "\n",
    "Now that Neo4j can read the files, let’s write some Cypher to access their content. We can use\n",
    "LOAD CSV WITH HEADERS to load the reachability-meta.csv data, and the as\n",
    "function tells Neo4j to run the remaining code for each csv line, where each line is now named\n",
    "row. The headers are read in and can be used to access the corresponding csv columns, which\n",
    "we reference in CREATE to build nodes with the correct properties. Node IDs and population\n",
    "numbers are turned into integers with toInteger(), while our latitude and longitude\n",
    "attributes are converted into floats using toFloat(). When run from the Neo4j Browser,\n",
    "the following script will load the node attributes file:"
   ]
  },
  {
   "cell_type": "code",
   "execution_count": null,
   "metadata": {},
   "outputs": [],
   "source": [
    "LOAD CSV WITH HEADERS FROM 'file:///reachability-meta.csv' as\n",
    "row\n",
    "CREATE (city:City {\n",
    "    node_id: toInteger(row.node_id),\n",
    "    name: row.name,\n",
    "    population: toInteger(row.metro_pop),\n",
    "    latitude: toFloat(row.latitude),\n",
    "    longitude: toFloat(row.longitude)\n",
    "})"
   ]
  },
  {
   "cell_type": "markdown",
   "metadata": {},
   "source": [
    "Next, we will use Cypher again to load in the edges file. Unlike our node properties file,\n",
    "reachability.csv doesn’t contain headers, so we use LOAD CSV to import the data into\n",
    "Neo4j. Our two MATCH functions find the corresponding nodes for our edge using slice notation\n",
    "(e.g., [0]) to refer to the csv columns. We can also use Cypher’s toInteger() function to\n",
    "convert our node attributes into integers, for both matching and merging. This identifies the\n",
    "nodes that we loaded in the previous step. Then, a MERGE step adds an :AIR_TRAVEL edge\n",
    "between these nodes, with travel_time added as an attribute from the third csv column:"
   ]
  },
  {
   "cell_type": "code",
   "execution_count": null,
   "metadata": {},
   "outputs": [],
   "source": [
    "LOAD CSV FROM 'file:///reachability.csv' as row\n",
    "MATCH (from:City {node_id: toInteger(row[0])})\n",
    "MATCH (to:City {node_id: toInteger(row[1])})\n",
    "MERGE (from) - [:AIR_TRAVEL {travel_time: toInteger(row[2])}] - (to)"
   ]
  },
  {
   "cell_type": "markdown",
   "metadata": {},
   "source": [
    "With our data loaded into Neo4j, we should now confirm that it is as expected and try to access it\n",
    "from Python. To perform Cypher queries in Python, we will again be using the Neo4jConnect\n",
    "class we prepared earlier in this chapter."
   ]
  },
  {
   "cell_type": "code",
   "execution_count": 3,
   "metadata": {},
   "outputs": [
    {
     "name": "stdout",
     "output_type": "stream",
     "text": [
      "[{'COUNT(n)': 456}]\n"
     ]
    }
   ],
   "source": [
    "from graphtastic.database.neo4j import Neo4jConnect\n",
    "\n",
    "connection = Neo4jConnect('bolt://localhost:7687', 'admin', 'testpython')\n",
    "cypher = 'MATCH (n) RETURN COUNT(n)'\n",
    "result = connection.query(cypher).data()\n",
    "connection.close()\n",
    "print(result)"
   ]
  },
  {
   "cell_type": "markdown",
   "metadata": {},
   "source": [
    "The result show that there are 456 nodes in the graph.\n",
    "\n",
    "Next, let’s ensure that an edge we know should be present in Neo4j was added correctly. We can\n",
    "use the same pattern as in the node-counting example to run a Cypher query from Python, but\n",
    "this time with alternative Cypher code. The edge on the first line of reachability.csv is\n",
    "between node ID 57 and node ID 0. This time, for our test, let’s create a list of two elements\n",
    "to represent this edge. We will refer to these elements in our Cypher query:"
   ]
  },
  {
   "cell_type": "code",
   "execution_count": 5,
   "metadata": {},
   "outputs": [
    {
     "name": "stdout",
     "output_type": "stream",
     "text": [
      "MATCH (n:City {node_id:57})-[r:AIR_TRAVEL]->(m:City {node_id:0}) RETURN n.name, m.name, r.travel_time\n"
     ]
    }
   ],
   "source": [
    "edge_test = [57, 0]\n",
    "\n",
    "cypher = f'MATCH (n:City {{node_id:{edge_test[0]}}})' \\\n",
    "'-[r:AIR_TRAVEL]->' \\\n",
    "f'(m:City {{node_id:{edge_test[1]}}}) ' \\\n",
    "'RETURN n.name, m.name, r.travel_time'\n",
    "print(cypher)"
   ]
  },
  {
   "cell_type": "code",
   "execution_count": 6,
   "metadata": {},
   "outputs": [
    {
     "name": "stdout",
     "output_type": "stream",
     "text": [
      "[{'n.name': 'Calgary, AB', 'm.name': 'Abbotsford, BC', 'r.travel_time': 84}]\n"
     ]
    }
   ],
   "source": [
    "connection = Neo4jConnect('bolt://localhost:7687', 'admin', 'testpython')\n",
    "result = connection.query(cypher).data()\n",
    "connection.close()\n",
    "print(result)"
   ]
  },
  {
   "cell_type": "markdown",
   "metadata": {},
   "source": [
    "From the print statement, you should see that we matched one edge, from Calgary, AB, to\n",
    "Abbotsford, BC, with a travel time of 84. Try changing the node IDs in edge_test and\n",
    "rerunning to check for a few more edges present in reachability.csv."
   ]
  }
 ],
 "metadata": {
  "kernelspec": {
   "display_name": "Python 3",
   "language": "python",
   "name": "python3"
  },
  "language_info": {
   "codemirror_mode": {
    "name": "ipython",
    "version": 3
   },
   "file_extension": ".py",
   "mimetype": "text/x-python",
   "name": "python",
   "nbconvert_exporter": "python",
   "pygments_lexer": "ipython3",
   "version": "3.11.4"
  },
  "orig_nbformat": 4
 },
 "nbformat": 4,
 "nbformat_minor": 2
}
