{
 "cells": [
  {
   "cell_type": "markdown",
   "metadata": {},
   "source": [
    "### Storing a graph in Neo4j\n",
    "\n",
    "With our graph database set up, and our methods for interacting with Neo4j written, we can start to\n",
    "use Python and Neo4j to store and explore our graph data.\n",
    "In this section, we will be looking at an air travel network between the US and Canada and analyzing\n",
    "its properties to find efficient routes between locations.\n",
    "\n",
    "#### Preprocessing data\n",
    "To begin, let’s take a look at our data (sourced from Stanford University: https://snap.\n",
    "stanford.edu/data/reachability.html). We have two files, reachability_250.\n",
    "txt and reachability-meta.csv."
   ]
  },
  {
   "cell_type": "code",
   "execution_count": 2,
   "metadata": {},
   "outputs": [],
   "source": [
    "import csv\n",
    "with open('./data/reachability_250.txt', 'r') as txt:\n",
    "    reader = csv.reader(txt, delimiter=' ')\n",
    "    edges = [edge for edge in reader][6:]\n",
    "    edges = [[edge[0], edge[1], int(edge[2])*-1] for edge in edges]\n",
    "    \n",
    "with open('./data/reachability.csv', 'w', newline='') as c:\n",
    "    writer = csv.writer(c)\n",
    "    for edge in edges:\n",
    "        writer.writerow(edge)"
   ]
  },
  {
   "cell_type": "markdown",
   "metadata": {},
   "source": [
    "#### Moving nodes, edges, and properties to Neo4j\n",
    "\n",
    "We will be using Python to write to our Neo4j database. We will need to first write some Cypher\n",
    "queries that we will later get Python to send to Neo4j.\n",
    "At this stage, we should also make sure that our Neo4j database is empty; if not, the MATCH (n)\n",
    "DETACH DELETE n query can be run in the Neo4j Browser window before starting.\n",
    "\n",
    "Our Cypher scripts will read data from CSV files, which on a local installation of Neo4j should be in\n",
    "a specific folder that Neo4j can access. Follow these steps to get the data into Neo4j:\n",
    "\n",
    "Now that Neo4j can read the files, let’s write some Cypher to access their content. We can use\n",
    "LOAD CSV WITH HEADERS to load the reachability-meta.csv data, and the as\n",
    "function tells Neo4j to run the remaining code for each csv line, where each line is now named\n",
    "row. The headers are read in and can be used to access the corresponding csv columns, which\n",
    "we reference in CREATE to build nodes with the correct properties. Node IDs and population\n",
    "numbers are turned into integers with toInteger(), while our latitude and longitude\n",
    "attributes are converted into floats using toFloat(). When run from the Neo4j Browser,\n",
    "the following script will load the node attributes file:"
   ]
  },
  {
   "cell_type": "code",
   "execution_count": null,
   "metadata": {},
   "outputs": [],
   "source": [
    "LOAD CSV WITH HEADERS FROM 'file:///reachability-meta.csv' as\n",
    "row\n",
    "CREATE (city:City {\n",
    "    node_id: toInteger(row.node_id),\n",
    "    name: row.name,\n",
    "    population: toInteger(row.metro_pop),\n",
    "    latitude: toFloat(row.latitude),\n",
    "    longitude: toFloat(row.longitude)\n",
    "})"
   ]
  },
  {
   "cell_type": "markdown",
   "metadata": {},
   "source": [
    "Next, we will use Cypher again to load in the edges file. Unlike our node properties file,\n",
    "reachability.csv doesn’t contain headers, so we use LOAD CSV to import the data into\n",
    "Neo4j. Our two MATCH functions find the corresponding nodes for our edge using slice notation\n",
    "(e.g., [0]) to refer to the csv columns. We can also use Cypher’s toInteger() function to\n",
    "convert our node attributes into integers, for both matching and merging. This identifies the\n",
    "nodes that we loaded in the previous step. Then, a MERGE step adds an :AIR_TRAVEL edge\n",
    "between these nodes, with travel_time added as an attribute from the third csv column:"
   ]
  },
  {
   "cell_type": "code",
   "execution_count": null,
   "metadata": {},
   "outputs": [],
   "source": [
    "LOAD CSV FROM 'file:///reachability.csv' as row\n",
    "MATCH (from:City {node_id: toInteger(row[0])})\n",
    "MATCH (to:City {node_id: toInteger(row[1])})\n",
    "MERGE (from) - [:AIR_TRAVEL {travel_time: toInteger(row[2])}] - (to)"
   ]
  },
  {
   "cell_type": "markdown",
   "metadata": {},
   "source": [
    "With our data loaded into Neo4j, we should now confirm that it is as expected and try to access it\n",
    "from Python. To perform Cypher queries in Python, we will again be using the Neo4jConnect\n",
    "class we prepared earlier in this chapter."
   ]
  },
  {
   "cell_type": "code",
   "execution_count": 2,
   "metadata": {},
   "outputs": [
    {
     "name": "stdout",
     "output_type": "stream",
     "text": [
      "[{'COUNT(n)': 456}]\n"
     ]
    }
   ],
   "source": [
    "from graphtastic.database.neo4j import Neo4jConnect\n",
    "\n",
    "connection = Neo4jConnect('bolt://localhost:7687', 'admin', 'testpython')\n",
    "cypher = 'MATCH (n) RETURN COUNT(n)'\n",
    "result = connection.query(cypher).data()\n",
    "connection.close()\n",
    "print(result)"
   ]
  },
  {
   "cell_type": "markdown",
   "metadata": {},
   "source": [
    "The result show that there are 456 nodes in the graph.\n",
    "\n",
    "Next, let’s ensure that an edge we know should be present in Neo4j was added correctly. We can\n",
    "use the same pattern as in the node-counting example to run a Cypher query from Python, but\n",
    "this time with alternative Cypher code. The edge on the first line of reachability.csv is\n",
    "between node ID 57 and node ID 0. This time, for our test, let’s create a list of two elements\n",
    "to represent this edge. We will refer to these elements in our Cypher query:"
   ]
  },
  {
   "cell_type": "code",
   "execution_count": 5,
   "metadata": {},
   "outputs": [
    {
     "name": "stdout",
     "output_type": "stream",
     "text": [
      "MATCH (n:City {node_id:57})-[r:AIR_TRAVEL]->(m:City {node_id:0}) RETURN n.name, m.name, r.travel_time\n"
     ]
    }
   ],
   "source": [
    "edge_test = [57, 0]\n",
    "\n",
    "cypher = f'MATCH (n:City {{node_id:{edge_test[0]}}})' \\\n",
    "'-[r:AIR_TRAVEL]->' \\\n",
    "f'(m:City {{node_id:{edge_test[1]}}}) ' \\\n",
    "'RETURN n.name, m.name, r.travel_time'\n",
    "print(cypher)"
   ]
  },
  {
   "cell_type": "code",
   "execution_count": 6,
   "metadata": {},
   "outputs": [
    {
     "name": "stdout",
     "output_type": "stream",
     "text": [
      "[{'n.name': 'Calgary, AB', 'm.name': 'Abbotsford, BC', 'r.travel_time': 84}]\n"
     ]
    }
   ],
   "source": [
    "connection = Neo4jConnect('bolt://localhost:7687', 'admin', 'testpython')\n",
    "result = connection.query(cypher).data()\n",
    "connection.close()\n",
    "print(result)"
   ]
  },
  {
   "cell_type": "markdown",
   "metadata": {},
   "source": [
    "From the print statement, you should see that we matched one edge, from Calgary, AB, to\n",
    "Abbotsford, BC, with a travel time of 84. Try changing the node IDs in edge_test and\n",
    "rerunning to check for a few more edges present in reachability.csv."
   ]
  },
  {
   "cell_type": "markdown",
   "metadata": {},
   "source": [
    "### Optimizing travel with Python and Cypher\n",
    "\n",
    "With our graph fully loaded into Neo4j, and our methods for querying data using Cypher and Python set up, we are ready to perform some more complex analysis. At the start of this section, we will use Cypher to answer questions and return answers in Python. Later, we will be doing more complex analysis, by sampling graph data from Neo4j and working with the sample in igraph.\n",
    "\n",
    "The first query we will run will be used to find out the highest population by city and we are going to return the name of the city and the city's population as the result."
   ]
  },
  {
   "cell_type": "code",
   "execution_count": 9,
   "metadata": {},
   "outputs": [
    {
     "name": "stdout",
     "output_type": "stream",
     "text": [
      "[{'n.name': 'New York, NY', 'n.population': 19020000}]\n"
     ]
    }
   ],
   "source": [
    "cypher = '''MATCH (n) \n",
    "         RETURN n.name, n.population \n",
    "         ORDER BY n.population \n",
    "         DESC LIMIT 1\n",
    "         '''\n",
    "\n",
    "connection = Neo4jConnect('bolt://localhost:7687', 'admin', 'testpython')\n",
    "\n",
    "result = connection.query(cypher).data()\n",
    "connection.close()\n",
    "print(result)"
   ]
  },
  {
   "cell_type": "markdown",
   "metadata": {},
   "source": [
    "Our results show us that the city with the highest population is New York. Another simple task to ask the graph is what cities we can travel frorm New york in a relatively short travel time."
   ]
  },
  {
   "cell_type": "code",
   "execution_count": 10,
   "metadata": {},
   "outputs": [
    {
     "name": "stdout",
     "output_type": "stream",
     "text": [
      "[{'m.name': 'Ottawa, ON'}, {'m.name': 'Buffalo, NY'}, {'m.name': 'Montreal, QC'}, {'m.name': 'Philadelphia, PA'}, {'m.name': 'Hyannis, MA'}, {'m.name': 'Lebanon, NH'}, {'m.name': 'Ithaca, NY'}, {'m.name': 'Manchester, NH'}, {'m.name': 'Nantucket, MA'}, {'m.name': 'Baltimore, MD'}, {'m.name': 'Washington, DC'}, {'m.name': 'Burlington, VT'}, {'m.name': 'Portland, ME'}, {'m.name': 'Bangor, ME'}, {'m.name': 'Pittsburgh, PA'}, {'m.name': 'Richmond, VA'}, {'m.name': 'Albany, NY'}, {'m.name': 'Greensboro/High Point/Winston Salem, NC'}, {'m.name': 'Cleveland, OH'}, {'m.name': 'Raleigh/Durham, NC'}, {'m.name': 'Syracuse, NY'}, {'m.name': 'Akron/Canton, OH'}, {'m.name': 'Boston, MA'}, {'m.name': 'Toronto, ON'}, {'m.name': 'Hartford, CT'}, {'m.name': 'Greenville/Spartanburg, SC'}, {'m.name': 'Norfolk/Virginia Beach/Williamsburg, VA'}, {'m.name': 'Newport News, VA'}, {'m.name': 'Providence, RI'}, {'m.name': 'Quebec, QC'}]\n",
      "30\n"
     ]
    }
   ],
   "source": [
    "cypher = '''\n",
    "            MATCH (n:City {name: \"New York, NY\"}) \n",
    "            MATCH (n) - [r:AIR_TRAVEL] -> (m) \n",
    "            WHERE r.travel_time < 100 \n",
    "            RETURN m.name\n",
    "         '''\n",
    "         \n",
    "connection = Neo4jConnect('bolt://localhost:7687', 'admin', 'testpython')\n",
    "result = connection.query(cypher).data()\n",
    "connection.close()\n",
    "print(result)\n",
    "print(len(result))"
   ]
  },
  {
   "cell_type": "markdown",
   "metadata": {},
   "source": [
    "These first analyses are fairly simple and could be achieved using a relational database. Let’s\n",
    "now move on to some questions best tackled with a graph data structure and graph database,\n",
    "such as calculating paths.\n",
    "\n",
    "Our graph contains flights available between cities in the US and Canada, but to make some\n",
    "journeys, connections will need to be made, involving stops along the way. As an example, let’s\n",
    "look at how we might travel from San Diego, CA, all the way north to St. John’s, NL.\n",
    "\n",
    "We will begin, as many Cypher queries do, by using MATCH statements. First, we match the\n",
    "cities of interest, to find their corresponding nodes. Next, we match a path between these nodes\n",
    "using the [*..3] wildcard in place of specific edges or edge types. This notation allows paths\n",
    "to be matched up to a length of three hops from the starting node, n. We also assign these\n",
    "whole matched paths to the variable p. The last operation we need to do is return the paths,\n",
    "p, as well as the relationship details with travel time information with relationships (p), and\n",
    "map this to the rels variable:"
   ]
  },
  {
   "cell_type": "code",
   "execution_count": 14,
   "metadata": {},
   "outputs": [],
   "source": [
    "cypher = '''\n",
    "            MATCH (n:City {name: \"San Diego, CA\"})\n",
    "            MATCH (m:City {name: \"St. Johns, NL\"})\n",
    "            MATCH p=(n) - [*..3] -> (m)\n",
    "            RETURN p, relationships(p) as rels            \n",
    "         '''\n",
    "connection = Neo4jConnect('bolt://localhost:7687', 'admin', 'testpython')\n",
    "result = connection.query(cypher).data()\n",
    "connection.close()\n",
    "\n",
    "print(result)\n",
    "print(len(result))"
   ]
  },
  {
   "cell_type": "code",
   "execution_count": 15,
   "metadata": {},
   "outputs": [
    {
     "name": "stdout",
     "output_type": "stream",
     "text": [
      "[{'p': [{'latitude': 32.715685, 'name': 'San Diego, CA', 'population': 3140000, 'node_id': 367, 'longitude': -117.161724}, 'AIR_TRAVEL', {'latitude': 35.472005, 'name': 'Oklahoma City, OK', 'longitude': -97.520334, 'node_id': 304, 'population': 1278000}, 'AIR_TRAVEL', {'latitude': 40.71455, 'name': 'New York, NY', 'population': 19020000, 'node_id': 294, 'longitude': -74.007124}, 'AIR_TRAVEL', {'latitude': 29.93767, 'name': 'St. Johns, NL', 'population': 106172, 'node_id': 401, 'longitude': -81.452057}], 'rels': [({'latitude': 32.715685, 'name': 'San Diego, CA', 'population': 3140000, 'node_id': 367, 'longitude': -117.161724}, 'AIR_TRAVEL', {'latitude': 35.472005, 'name': 'Oklahoma City, OK', 'longitude': -97.520334, 'node_id': 304, 'population': 1278000}), ({'latitude': 35.472005, 'name': 'Oklahoma City, OK', 'longitude': -97.520334, 'node_id': 304, 'population': 1278000}, 'AIR_TRAVEL', {'latitude': 40.71455, 'name': 'New York, NY', 'population': 19020000, 'node_id': 294, 'longitude': -74.007124}), ({'latitude': 40.71455, 'name': 'New York, NY', 'population': 19020000, 'node_id': 294, 'longitude': -74.007124}, 'AIR_TRAVEL', {'latitude': 29.93767, 'name': 'St. Johns, NL', 'population': 106172, 'node_id': 401, 'longitude': -81.452057})]}, {'p': [{'latitude': 32.715685, 'name': 'San Diego, CA', 'population': 3140000, 'node_id': 367, 'longitude': -117.161724}, 'AIR_TRAVEL', {'latitude': 39.74001, 'name': 'Denver, CO', 'population': 2600000, 'node_id': 100, 'longitude': -104.992259}, 'AIR_TRAVEL', {'latitude': 43.648565, 'name': 'Toronto, ON', 'population': 6324000, 'node_id': 416, 'longitude': -79.385329}, 'AIR_TRAVEL', {'latitude': 29.93767, 'name': 'St. Johns, NL', 'population': 106172, 'node_id': 401, 'longitude': -81.452057}], 'rels': [({'latitude': 32.715685, 'name': 'San Diego, CA', 'population': 3140000, 'node_id': 367, 'longitude': -117.161724}, 'AIR_TRAVEL', {'latitude': 39.74001, 'name': 'Denver, CO', 'population': 2600000, 'node_id': 100, 'longitude': -104.992259}), ({'latitude': 39.74001, 'name': 'Denver, CO', 'population': 2600000, 'node_id': 100, 'longitude': -104.992259}, 'AIR_TRAVEL', {'latitude': 43.648565, 'name': 'Toronto, ON', 'population': 6324000, 'node_id': 416, 'longitude': -79.385329}), ({'latitude': 43.648565, 'name': 'Toronto, ON', 'population': 6324000, 'node_id': 416, 'longitude': -79.385329}, 'AIR_TRAVEL', {'latitude': 29.93767, 'name': 'St. Johns, NL', 'population': 106172, 'node_id': 401, 'longitude': -81.452057})]}, {'p': [{'latitude': 32.715685, 'name': 'San Diego, CA', 'population': 3140000, 'node_id': 367, 'longitude': -117.161724}, 'AIR_TRAVEL', {'latitude': 39.74001, 'name': 'Denver, CO', 'population': 2600000, 'node_id': 100, 'longitude': -104.992259}, 'AIR_TRAVEL', {'latitude': 40.71455, 'name': 'New York, NY', 'population': 19020000, 'node_id': 294, 'longitude': -74.007124}, 'AIR_TRAVEL', {'latitude': 29.93767, 'name': 'St. Johns, NL', 'population': 106172, 'node_id': 401, 'longitude': -81.452057}], 'rels': [({'latitude': 32.715685, 'name': 'San Diego, CA', 'population': 3140000, 'node_id': 367, 'longitude': -117.161724}, 'AIR_TRAVEL', {'latitude': 39.74001, 'name': 'Denver, CO', 'population': 2600000, 'node_id': 100, 'longitude': -104.992259}), ({'latitude': 39.74001, 'name': 'Denver, CO', 'population': 2600000, 'node_id': 100, 'longitude': -104.992259}, 'AIR_TRAVEL', {'latitude': 40.71455, 'name': 'New York, NY', 'population': 19020000, 'node_id': 294, 'longitude': -74.007124}), ({'latitude': 40.71455, 'name': 'New York, NY', 'population': 19020000, 'node_id': 294, 'longitude': -74.007124}, 'AIR_TRAVEL', {'latitude': 29.93767, 'name': 'St. Johns, NL', 'population': 106172, 'node_id': 401, 'longitude': -81.452057})]}, {'p': [{'latitude': 32.715685, 'name': 'San Diego, CA', 'population': 3140000, 'node_id': 367, 'longitude': -117.161724}, 'AIR_TRAVEL', {'latitude': 29.42449, 'name': 'San Antonio, TX', 'longitude': -98.494624, 'node_id': 366, 'population': 2195000}, 'AIR_TRAVEL', {'latitude': 40.71455, 'name': 'New York, NY', 'population': 19020000, 'node_id': 294, 'longitude': -74.007124}, 'AIR_TRAVEL', {'latitude': 29.93767, 'name': 'St. Johns, NL', 'population': 106172, 'node_id': 401, 'longitude': -81.452057}], 'rels': [({'latitude': 32.715685, 'name': 'San Diego, CA', 'population': 3140000, 'node_id': 367, 'longitude': -117.161724}, 'AIR_TRAVEL', {'latitude': 29.42449, 'name': 'San Antonio, TX', 'longitude': -98.494624, 'node_id': 366, 'population': 2195000}), ({'latitude': 29.42449, 'name': 'San Antonio, TX', 'longitude': -98.494624, 'node_id': 366, 'population': 2195000}, 'AIR_TRAVEL', {'latitude': 40.71455, 'name': 'New York, NY', 'population': 19020000, 'node_id': 294, 'longitude': -74.007124}), ({'latitude': 40.71455, 'name': 'New York, NY', 'population': 19020000, 'node_id': 294, 'longitude': -74.007124}, 'AIR_TRAVEL', {'latitude': 29.93767, 'name': 'St. Johns, NL', 'population': 106172, 'node_id': 401, 'longitude': -81.452057})]}, {'p': [{'latitude': 32.715685, 'name': 'San Diego, CA', 'population': 3140000, 'node_id': 367, 'longitude': -117.161724}, 'AIR_TRAVEL', {'latitude': 29.76045, 'name': 'Houston, TX', 'population': 6087000, 'node_id': 178, 'longitude': -95.369784}, 'AIR_TRAVEL', {'latitude': 40.71455, 'name': 'New York, NY', 'population': 19020000, 'node_id': 294, 'longitude': -74.007124}, 'AIR_TRAVEL', {'latitude': 29.93767, 'name': 'St. Johns, NL', 'population': 106172, 'node_id': 401, 'longitude': -81.452057}], 'rels': [({'latitude': 32.715685, 'name': 'San Diego, CA', 'population': 3140000, 'node_id': 367, 'longitude': -117.161724}, 'AIR_TRAVEL', {'latitude': 29.76045, 'name': 'Houston, TX', 'population': 6087000, 'node_id': 178, 'longitude': -95.369784}), ({'latitude': 29.76045, 'name': 'Houston, TX', 'population': 6087000, 'node_id': 178, 'longitude': -95.369784}, 'AIR_TRAVEL', {'latitude': 40.71455, 'name': 'New York, NY', 'population': 19020000, 'node_id': 294, 'longitude': -74.007124}), ({'latitude': 40.71455, 'name': 'New York, NY', 'population': 19020000, 'node_id': 294, 'longitude': -74.007124}, 'AIR_TRAVEL', {'latitude': 29.93767, 'name': 'St. Johns, NL', 'population': 106172, 'node_id': 401, 'longitude': -81.452057})]}, {'p': [{'latitude': 32.715685, 'name': 'San Diego, CA', 'population': 3140000, 'node_id': 367, 'longitude': -117.161724}, 'AIR_TRAVEL', {'latitude': 29.76045, 'name': 'Houston, TX', 'population': 6087000, 'node_id': 178, 'longitude': -95.369784}, 'AIR_TRAVEL', {'latitude': 43.648565, 'name': 'Toronto, ON', 'population': 6324000, 'node_id': 416, 'longitude': -79.385329}, 'AIR_TRAVEL', {'latitude': 29.93767, 'name': 'St. Johns, NL', 'population': 106172, 'node_id': 401, 'longitude': -81.452057}], 'rels': [({'latitude': 32.715685, 'name': 'San Diego, CA', 'population': 3140000, 'node_id': 367, 'longitude': -117.161724}, 'AIR_TRAVEL', {'latitude': 29.76045, 'name': 'Houston, TX', 'population': 6087000, 'node_id': 178, 'longitude': -95.369784}), ({'latitude': 29.76045, 'name': 'Houston, TX', 'population': 6087000, 'node_id': 178, 'longitude': -95.369784}, 'AIR_TRAVEL', {'latitude': 43.648565, 'name': 'Toronto, ON', 'population': 6324000, 'node_id': 416, 'longitude': -79.385329}), ({'latitude': 43.648565, 'name': 'Toronto, ON', 'population': 6324000, 'node_id': 416, 'longitude': -79.385329}, 'AIR_TRAVEL', {'latitude': 29.93767, 'name': 'St. Johns, NL', 'population': 106172, 'node_id': 401, 'longitude': -81.452057})]}, {'p': [{'latitude': 32.715685, 'name': 'San Diego, CA', 'population': 3140000, 'node_id': 367, 'longitude': -117.161724}, 'AIR_TRAVEL', {'latitude': 30.267605, 'name': 'Austin, TX', 'population': 1784000, 'node_id': 23, 'longitude': -97.742984}, 'AIR_TRAVEL', {'latitude': 40.71455, 'name': 'New York, NY', 'population': 19020000, 'node_id': 294, 'longitude': -74.007124}, 'AIR_TRAVEL', {'latitude': 29.93767, 'name': 'St. Johns, NL', 'population': 106172, 'node_id': 401, 'longitude': -81.452057}], 'rels': [({'latitude': 32.715685, 'name': 'San Diego, CA', 'population': 3140000, 'node_id': 367, 'longitude': -117.161724}, 'AIR_TRAVEL', {'latitude': 30.267605, 'name': 'Austin, TX', 'population': 1784000, 'node_id': 23, 'longitude': -97.742984}), ({'latitude': 30.267605, 'name': 'Austin, TX', 'population': 1784000, 'node_id': 23, 'longitude': -97.742984}, 'AIR_TRAVEL', {'latitude': 40.71455, 'name': 'New York, NY', 'population': 19020000, 'node_id': 294, 'longitude': -74.007124}), ({'latitude': 40.71455, 'name': 'New York, NY', 'population': 19020000, 'node_id': 294, 'longitude': -74.007124}, 'AIR_TRAVEL', {'latitude': 29.93767, 'name': 'St. Johns, NL', 'population': 106172, 'node_id': 401, 'longitude': -81.452057})]}, {'p': [{'latitude': 32.715685, 'name': 'San Diego, CA', 'population': 3140000, 'node_id': 367, 'longitude': -117.161724}, 'AIR_TRAVEL', {'latitude': 41.260645, 'name': 'Omaha, NE', 'population': 877110, 'node_id': 305, 'longitude': -95.940469}, 'AIR_TRAVEL', {'latitude': 45.512288, 'name': 'Montreal, QC', 'population': 3764000, 'node_id': 280, 'longitude': -73.554392}, 'AIR_TRAVEL', {'latitude': 29.93767, 'name': 'St. Johns, NL', 'population': 106172, 'node_id': 401, 'longitude': -81.452057}], 'rels': [({'latitude': 32.715685, 'name': 'San Diego, CA', 'population': 3140000, 'node_id': 367, 'longitude': -117.161724}, 'AIR_TRAVEL', {'latitude': 41.260645, 'name': 'Omaha, NE', 'population': 877110, 'node_id': 305, 'longitude': -95.940469}), ({'latitude': 41.260645, 'name': 'Omaha, NE', 'population': 877110, 'node_id': 305, 'longitude': -95.940469}, 'AIR_TRAVEL', {'latitude': 45.512288, 'name': 'Montreal, QC', 'population': 3764000, 'node_id': 280, 'longitude': -73.554392}), ({'latitude': 45.512288, 'name': 'Montreal, QC', 'population': 3764000, 'node_id': 280, 'longitude': -73.554392}, 'AIR_TRAVEL', {'latitude': 29.93767, 'name': 'St. Johns, NL', 'population': 106172, 'node_id': 401, 'longitude': -81.452057})]}, {'p': [{'latitude': 32.715685, 'name': 'San Diego, CA', 'population': 3140000, 'node_id': 367, 'longitude': -117.161724}, 'AIR_TRAVEL', {'latitude': 41.260645, 'name': 'Omaha, NE', 'population': 877110, 'node_id': 305, 'longitude': -95.940469}, 'AIR_TRAVEL', {'latitude': 40.71455, 'name': 'New York, NY', 'population': 19020000, 'node_id': 294, 'longitude': -74.007124}, 'AIR_TRAVEL', {'latitude': 29.93767, 'name': 'St. Johns, NL', 'population': 106172, 'node_id': 401, 'longitude': -81.452057}], 'rels': [({'latitude': 32.715685, 'name': 'San Diego, CA', 'population': 3140000, 'node_id': 367, 'longitude': -117.161724}, 'AIR_TRAVEL', {'latitude': 41.260645, 'name': 'Omaha, NE', 'population': 877110, 'node_id': 305, 'longitude': -95.940469}), ({'latitude': 41.260645, 'name': 'Omaha, NE', 'population': 877110, 'node_id': 305, 'longitude': -95.940469}, 'AIR_TRAVEL', {'latitude': 40.71455, 'name': 'New York, NY', 'population': 19020000, 'node_id': 294, 'longitude': -74.007124}), ({'latitude': 40.71455, 'name': 'New York, NY', 'population': 19020000, 'node_id': 294, 'longitude': -74.007124}, 'AIR_TRAVEL', {'latitude': 29.93767, 'name': 'St. Johns, NL', 'population': 106172, 'node_id': 401, 'longitude': -81.452057})]}, {'p': [{'latitude': 32.715685, 'name': 'San Diego, CA', 'population': 3140000, 'node_id': 367, 'longitude': -117.161724}, 'AIR_TRAVEL', {'latitude': 41.260645, 'name': 'Omaha, NE', 'population': 877110, 'node_id': 305, 'longitude': -95.940469}, 'AIR_TRAVEL', {'latitude': 45.4215, 'name': 'Ottawa, ON', 'population': 1153000, 'node_id': 309, 'longitude': -75.691894}, 'AIR_TRAVEL', {'latitude': 29.93767, 'name': 'St. Johns, NL', 'population': 106172, 'node_id': 401, 'longitude': -81.452057}], 'rels': [({'latitude': 32.715685, 'name': 'San Diego, CA', 'population': 3140000, 'node_id': 367, 'longitude': -117.161724}, 'AIR_TRAVEL', {'latitude': 41.260645, 'name': 'Omaha, NE', 'population': 877110, 'node_id': 305, 'longitude': -95.940469}), ({'latitude': 41.260645, 'name': 'Omaha, NE', 'population': 877110, 'node_id': 305, 'longitude': -95.940469}, 'AIR_TRAVEL', {'latitude': 45.4215, 'name': 'Ottawa, ON', 'population': 1153000, 'node_id': 309, 'longitude': -75.691894}), ({'latitude': 45.4215, 'name': 'Ottawa, ON', 'population': 1153000, 'node_id': 309, 'longitude': -75.691894}, 'AIR_TRAVEL', {'latitude': 29.93767, 'name': 'St. Johns, NL', 'population': 106172, 'node_id': 401, 'longitude': -81.452057})]}, {'p': [{'latitude': 32.715685, 'name': 'San Diego, CA', 'population': 3140000, 'node_id': 367, 'longitude': -117.161724}, 'AIR_TRAVEL', {'latitude': 39.10296, 'name': 'Kansas City, MO', 'longitude': -94.583062, 'node_id': 204, 'population': 2053000}, 'AIR_TRAVEL', {'latitude': 43.648565, 'name': 'Toronto, ON', 'population': 6324000, 'node_id': 416, 'longitude': -79.385329}, 'AIR_TRAVEL', {'latitude': 29.93767, 'name': 'St. Johns, NL', 'population': 106172, 'node_id': 401, 'longitude': -81.452057}], 'rels': [({'latitude': 32.715685, 'name': 'San Diego, CA', 'population': 3140000, 'node_id': 367, 'longitude': -117.161724}, 'AIR_TRAVEL', {'latitude': 39.10296, 'name': 'Kansas City, MO', 'longitude': -94.583062, 'node_id': 204, 'population': 2053000}), ({'latitude': 39.10296, 'name': 'Kansas City, MO', 'longitude': -94.583062, 'node_id': 204, 'population': 2053000}, 'AIR_TRAVEL', {'latitude': 43.648565, 'name': 'Toronto, ON', 'population': 6324000, 'node_id': 416, 'longitude': -79.385329}), ({'latitude': 43.648565, 'name': 'Toronto, ON', 'population': 6324000, 'node_id': 416, 'longitude': -79.385329}, 'AIR_TRAVEL', {'latitude': 29.93767, 'name': 'St. Johns, NL', 'population': 106172, 'node_id': 401, 'longitude': -81.452057})]}, {'p': [{'latitude': 32.715685, 'name': 'San Diego, CA', 'population': 3140000, 'node_id': 367, 'longitude': -117.161724}, 'AIR_TRAVEL', {'latitude': 39.10296, 'name': 'Kansas City, MO', 'longitude': -94.583062, 'node_id': 204, 'population': 2053000}, 'AIR_TRAVEL', {'latitude': 40.71455, 'name': 'New York, NY', 'population': 19020000, 'node_id': 294, 'longitude': -74.007124}, 'AIR_TRAVEL', {'latitude': 29.93767, 'name': 'St. Johns, NL', 'population': 106172, 'node_id': 401, 'longitude': -81.452057}], 'rels': [({'latitude': 32.715685, 'name': 'San Diego, CA', 'population': 3140000, 'node_id': 367, 'longitude': -117.161724}, 'AIR_TRAVEL', {'latitude': 39.10296, 'name': 'Kansas City, MO', 'longitude': -94.583062, 'node_id': 204, 'population': 2053000}), ({'latitude': 39.10296, 'name': 'Kansas City, MO', 'longitude': -94.583062, 'node_id': 204, 'population': 2053000}, 'AIR_TRAVEL', {'latitude': 40.71455, 'name': 'New York, NY', 'population': 19020000, 'node_id': 294, 'longitude': -74.007124}), ({'latitude': 40.71455, 'name': 'New York, NY', 'population': 19020000, 'node_id': 294, 'longitude': -74.007124}, 'AIR_TRAVEL', {'latitude': 29.93767, 'name': 'St. Johns, NL', 'population': 106172, 'node_id': 401, 'longitude': -81.452057})]}, {'p': [{'latitude': 32.715685, 'name': 'San Diego, CA', 'population': 3140000, 'node_id': 367, 'longitude': -117.161724}, 'AIR_TRAVEL', {'latitude': 39.106441, 'name': 'Cincinnati, OH', 'population': 2138000, 'node_id': 76, 'longitude': -84.504694}, 'AIR_TRAVEL', {'latitude': 45.512288, 'name': 'Montreal, QC', 'population': 3764000, 'node_id': 280, 'longitude': -73.554392}, 'AIR_TRAVEL', {'latitude': 29.93767, 'name': 'St. Johns, NL', 'population': 106172, 'node_id': 401, 'longitude': -81.452057}], 'rels': [({'latitude': 32.715685, 'name': 'San Diego, CA', 'population': 3140000, 'node_id': 367, 'longitude': -117.161724}, 'AIR_TRAVEL', {'latitude': 39.106441, 'name': 'Cincinnati, OH', 'population': 2138000, 'node_id': 76, 'longitude': -84.504694}), ({'latitude': 39.106441, 'name': 'Cincinnati, OH', 'population': 2138000, 'node_id': 76, 'longitude': -84.504694}, 'AIR_TRAVEL', {'latitude': 45.512288, 'name': 'Montreal, QC', 'population': 3764000, 'node_id': 280, 'longitude': -73.554392}), ({'latitude': 45.512288, 'name': 'Montreal, QC', 'population': 3764000, 'node_id': 280, 'longitude': -73.554392}, 'AIR_TRAVEL', {'latitude': 29.93767, 'name': 'St. Johns, NL', 'population': 106172, 'node_id': 401, 'longitude': -81.452057})]}, {'p': [{'latitude': 32.715685, 'name': 'San Diego, CA', 'population': 3140000, 'node_id': 367, 'longitude': -117.161724}, 'AIR_TRAVEL', {'latitude': 39.106441, 'name': 'Cincinnati, OH', 'population': 2138000, 'node_id': 76, 'longitude': -84.504694}, 'AIR_TRAVEL', {'latitude': 40.71455, 'name': 'New York, NY', 'population': 19020000, 'node_id': 294, 'longitude': -74.007124}, 'AIR_TRAVEL', {'latitude': 29.93767, 'name': 'St. Johns, NL', 'population': 106172, 'node_id': 401, 'longitude': -81.452057}], 'rels': [({'latitude': 32.715685, 'name': 'San Diego, CA', 'population': 3140000, 'node_id': 367, 'longitude': -117.161724}, 'AIR_TRAVEL', {'latitude': 39.106441, 'name': 'Cincinnati, OH', 'population': 2138000, 'node_id': 76, 'longitude': -84.504694}), ({'latitude': 39.106441, 'name': 'Cincinnati, OH', 'population': 2138000, 'node_id': 76, 'longitude': -84.504694}, 'AIR_TRAVEL', {'latitude': 40.71455, 'name': 'New York, NY', 'population': 19020000, 'node_id': 294, 'longitude': -74.007124}), ({'latitude': 40.71455, 'name': 'New York, NY', 'population': 19020000, 'node_id': 294, 'longitude': -74.007124}, 'AIR_TRAVEL', {'latitude': 29.93767, 'name': 'St. Johns, NL', 'population': 106172, 'node_id': 401, 'longitude': -81.452057})]}, {'p': [{'latitude': 32.715685, 'name': 'San Diego, CA', 'population': 3140000, 'node_id': 367, 'longitude': -117.161724}, 'AIR_TRAVEL', {'latitude': 39.106441, 'name': 'Cincinnati, OH', 'population': 2138000, 'node_id': 76, 'longitude': -84.504694}, 'AIR_TRAVEL', {'latitude': 45.4215, 'name': 'Ottawa, ON', 'population': 1153000, 'node_id': 309, 'longitude': -75.691894}, 'AIR_TRAVEL', {'latitude': 29.93767, 'name': 'St. Johns, NL', 'population': 106172, 'node_id': 401, 'longitude': -81.452057}], 'rels': [({'latitude': 32.715685, 'name': 'San Diego, CA', 'population': 3140000, 'node_id': 367, 'longitude': -117.161724}, 'AIR_TRAVEL', {'latitude': 39.106441, 'name': 'Cincinnati, OH', 'population': 2138000, 'node_id': 76, 'longitude': -84.504694}), ({'latitude': 39.106441, 'name': 'Cincinnati, OH', 'population': 2138000, 'node_id': 76, 'longitude': -84.504694}, 'AIR_TRAVEL', {'latitude': 45.4215, 'name': 'Ottawa, ON', 'population': 1153000, 'node_id': 309, 'longitude': -75.691894}), ({'latitude': 45.4215, 'name': 'Ottawa, ON', 'population': 1153000, 'node_id': 309, 'longitude': -75.691894}, 'AIR_TRAVEL', {'latitude': 29.93767, 'name': 'St. Johns, NL', 'population': 106172, 'node_id': 401, 'longitude': -81.452057})]}, {'p': [{'latitude': 32.715685, 'name': 'San Diego, CA', 'population': 3140000, 'node_id': 367, 'longitude': -117.161724}, 'AIR_TRAVEL', {'latitude': 39.106441, 'name': 'Cincinnati, OH', 'population': 2138000, 'node_id': 76, 'longitude': -84.504694}, 'AIR_TRAVEL', {'latitude': 43.648565, 'name': 'Toronto, ON', 'population': 6324000, 'node_id': 416, 'longitude': -79.385329}, 'AIR_TRAVEL', {'latitude': 29.93767, 'name': 'St. Johns, NL', 'population': 106172, 'node_id': 401, 'longitude': -81.452057}], 'rels': [({'latitude': 32.715685, 'name': 'San Diego, CA', 'population': 3140000, 'node_id': 367, 'longitude': -117.161724}, 'AIR_TRAVEL', {'latitude': 39.106441, 'name': 'Cincinnati, OH', 'population': 2138000, 'node_id': 76, 'longitude': -84.504694}), ({'latitude': 39.106441, 'name': 'Cincinnati, OH', 'population': 2138000, 'node_id': 76, 'longitude': -84.504694}, 'AIR_TRAVEL', {'latitude': 43.648565, 'name': 'Toronto, ON', 'population': 6324000, 'node_id': 416, 'longitude': -79.385329}), ({'latitude': 43.648565, 'name': 'Toronto, ON', 'population': 6324000, 'node_id': 416, 'longitude': -79.385329}, 'AIR_TRAVEL', {'latitude': 29.93767, 'name': 'St. Johns, NL', 'population': 106172, 'node_id': 401, 'longitude': -81.452057})]}, {'p': [{'latitude': 32.715685, 'name': 'San Diego, CA', 'population': 3140000, 'node_id': 367, 'longitude': -117.161724}, 'AIR_TRAVEL', {'latitude': 33.748315, 'name': 'Atlanta, GA', 'population': 5359000, 'node_id': 19, 'longitude': -84.391109}, 'AIR_TRAVEL', {'latitude': 43.648565, 'name': 'Toronto, ON', 'population': 6324000, 'node_id': 416, 'longitude': -79.385329}, 'AIR_TRAVEL', {'latitude': 29.93767, 'name': 'St. Johns, NL', 'population': 106172, 'node_id': 401, 'longitude': -81.452057}], 'rels': [({'latitude': 32.715685, 'name': 'San Diego, CA', 'population': 3140000, 'node_id': 367, 'longitude': -117.161724}, 'AIR_TRAVEL', {'latitude': 33.748315, 'name': 'Atlanta, GA', 'population': 5359000, 'node_id': 19, 'longitude': -84.391109}), ({'latitude': 33.748315, 'name': 'Atlanta, GA', 'population': 5359000, 'node_id': 19, 'longitude': -84.391109}, 'AIR_TRAVEL', {'latitude': 43.648565, 'name': 'Toronto, ON', 'population': 6324000, 'node_id': 416, 'longitude': -79.385329}), ({'latitude': 43.648565, 'name': 'Toronto, ON', 'population': 6324000, 'node_id': 416, 'longitude': -79.385329}, 'AIR_TRAVEL', {'latitude': 29.93767, 'name': 'St. Johns, NL', 'population': 106172, 'node_id': 401, 'longitude': -81.452057})]}, {'p': [{'latitude': 32.715685, 'name': 'San Diego, CA', 'population': 3140000, 'node_id': 367, 'longitude': -117.161724}, 'AIR_TRAVEL', {'latitude': 33.748315, 'name': 'Atlanta, GA', 'population': 5359000, 'node_id': 19, 'longitude': -84.391109}, 'AIR_TRAVEL', {'latitude': 40.71455, 'name': 'New York, NY', 'population': 19020000, 'node_id': 294, 'longitude': -74.007124}, 'AIR_TRAVEL', {'latitude': 29.93767, 'name': 'St. Johns, NL', 'population': 106172, 'node_id': 401, 'longitude': -81.452057}], 'rels': [({'latitude': 32.715685, 'name': 'San Diego, CA', 'population': 3140000, 'node_id': 367, 'longitude': -117.161724}, 'AIR_TRAVEL', {'latitude': 33.748315, 'name': 'Atlanta, GA', 'population': 5359000, 'node_id': 19, 'longitude': -84.391109}), ({'latitude': 33.748315, 'name': 'Atlanta, GA', 'population': 5359000, 'node_id': 19, 'longitude': -84.391109}, 'AIR_TRAVEL', {'latitude': 40.71455, 'name': 'New York, NY', 'population': 19020000, 'node_id': 294, 'longitude': -74.007124}), ({'latitude': 40.71455, 'name': 'New York, NY', 'population': 19020000, 'node_id': 294, 'longitude': -74.007124}, 'AIR_TRAVEL', {'latitude': 29.93767, 'name': 'St. Johns, NL', 'population': 106172, 'node_id': 401, 'longitude': -81.452057})]}, {'p': [{'latitude': 32.715685, 'name': 'San Diego, CA', 'population': 3140000, 'node_id': 367, 'longitude': -117.161724}, 'AIR_TRAVEL', {'latitude': 33.748315, 'name': 'Atlanta, GA', 'population': 5359000, 'node_id': 19, 'longitude': -84.391109}, 'AIR_TRAVEL', {'latitude': 45.4215, 'name': 'Ottawa, ON', 'population': 1153000, 'node_id': 309, 'longitude': -75.691894}, 'AIR_TRAVEL', {'latitude': 29.93767, 'name': 'St. Johns, NL', 'population': 106172, 'node_id': 401, 'longitude': -81.452057}], 'rels': [({'latitude': 32.715685, 'name': 'San Diego, CA', 'population': 3140000, 'node_id': 367, 'longitude': -117.161724}, 'AIR_TRAVEL', {'latitude': 33.748315, 'name': 'Atlanta, GA', 'population': 5359000, 'node_id': 19, 'longitude': -84.391109}), ({'latitude': 33.748315, 'name': 'Atlanta, GA', 'population': 5359000, 'node_id': 19, 'longitude': -84.391109}, 'AIR_TRAVEL', {'latitude': 45.4215, 'name': 'Ottawa, ON', 'population': 1153000, 'node_id': 309, 'longitude': -75.691894}), ({'latitude': 45.4215, 'name': 'Ottawa, ON', 'population': 1153000, 'node_id': 309, 'longitude': -75.691894}, 'AIR_TRAVEL', {'latitude': 29.93767, 'name': 'St. Johns, NL', 'population': 106172, 'node_id': 401, 'longitude': -81.452057})]}, {'p': [{'latitude': 32.715685, 'name': 'San Diego, CA', 'population': 3140000, 'node_id': 367, 'longitude': -117.161724}, 'AIR_TRAVEL', {'latitude': 33.748315, 'name': 'Atlanta, GA', 'population': 5359000, 'node_id': 19, 'longitude': -84.391109}, 'AIR_TRAVEL', {'latitude': 45.512288, 'name': 'Montreal, QC', 'population': 3764000, 'node_id': 280, 'longitude': -73.554392}, 'AIR_TRAVEL', {'latitude': 29.93767, 'name': 'St. Johns, NL', 'population': 106172, 'node_id': 401, 'longitude': -81.452057}], 'rels': [({'latitude': 32.715685, 'name': 'San Diego, CA', 'population': 3140000, 'node_id': 367, 'longitude': -117.161724}, 'AIR_TRAVEL', {'latitude': 33.748315, 'name': 'Atlanta, GA', 'population': 5359000, 'node_id': 19, 'longitude': -84.391109}), ({'latitude': 33.748315, 'name': 'Atlanta, GA', 'population': 5359000, 'node_id': 19, 'longitude': -84.391109}, 'AIR_TRAVEL', {'latitude': 45.512288, 'name': 'Montreal, QC', 'population': 3764000, 'node_id': 280, 'longitude': -73.554392}), ({'latitude': 45.512288, 'name': 'Montreal, QC', 'population': 3764000, 'node_id': 280, 'longitude': -73.554392}, 'AIR_TRAVEL', {'latitude': 29.93767, 'name': 'St. Johns, NL', 'population': 106172, 'node_id': 401, 'longitude': -81.452057})]}, {'p': [{'latitude': 32.715685, 'name': 'San Diego, CA', 'population': 3140000, 'node_id': 367, 'longitude': -117.161724}, 'AIR_TRAVEL', {'latitude': 44.879269, 'name': 'Minneapolis/St Paul, MN', 'longitude': -93.198708, 'node_id': 269, 'population': 3318000}, 'AIR_TRAVEL', {'latitude': 45.512288, 'name': 'Montreal, QC', 'population': 3764000, 'node_id': 280, 'longitude': -73.554392}, 'AIR_TRAVEL', {'latitude': 29.93767, 'name': 'St. Johns, NL', 'population': 106172, 'node_id': 401, 'longitude': -81.452057}], 'rels': [({'latitude': 32.715685, 'name': 'San Diego, CA', 'population': 3140000, 'node_id': 367, 'longitude': -117.161724}, 'AIR_TRAVEL', {'latitude': 44.879269, 'name': 'Minneapolis/St Paul, MN', 'longitude': -93.198708, 'node_id': 269, 'population': 3318000}), ({'latitude': 44.879269, 'name': 'Minneapolis/St Paul, MN', 'longitude': -93.198708, 'node_id': 269, 'population': 3318000}, 'AIR_TRAVEL', {'latitude': 45.512288, 'name': 'Montreal, QC', 'population': 3764000, 'node_id': 280, 'longitude': -73.554392}), ({'latitude': 45.512288, 'name': 'Montreal, QC', 'population': 3764000, 'node_id': 280, 'longitude': -73.554392}, 'AIR_TRAVEL', {'latitude': 29.93767, 'name': 'St. Johns, NL', 'population': 106172, 'node_id': 401, 'longitude': -81.452057})]}, {'p': [{'latitude': 32.715685, 'name': 'San Diego, CA', 'population': 3140000, 'node_id': 367, 'longitude': -117.161724}, 'AIR_TRAVEL', {'latitude': 44.879269, 'name': 'Minneapolis/St Paul, MN', 'longitude': -93.198708, 'node_id': 269, 'population': 3318000}, 'AIR_TRAVEL', {'latitude': 43.648565, 'name': 'Toronto, ON', 'population': 6324000, 'node_id': 416, 'longitude': -79.385329}, 'AIR_TRAVEL', {'latitude': 29.93767, 'name': 'St. Johns, NL', 'population': 106172, 'node_id': 401, 'longitude': -81.452057}], 'rels': [({'latitude': 32.715685, 'name': 'San Diego, CA', 'population': 3140000, 'node_id': 367, 'longitude': -117.161724}, 'AIR_TRAVEL', {'latitude': 44.879269, 'name': 'Minneapolis/St Paul, MN', 'longitude': -93.198708, 'node_id': 269, 'population': 3318000}), ({'latitude': 44.879269, 'name': 'Minneapolis/St Paul, MN', 'longitude': -93.198708, 'node_id': 269, 'population': 3318000}, 'AIR_TRAVEL', {'latitude': 43.648565, 'name': 'Toronto, ON', 'population': 6324000, 'node_id': 416, 'longitude': -79.385329}), ({'latitude': 43.648565, 'name': 'Toronto, ON', 'population': 6324000, 'node_id': 416, 'longitude': -79.385329}, 'AIR_TRAVEL', {'latitude': 29.93767, 'name': 'St. Johns, NL', 'population': 106172, 'node_id': 401, 'longitude': -81.452057})]}, {'p': [{'latitude': 32.715685, 'name': 'San Diego, CA', 'population': 3140000, 'node_id': 367, 'longitude': -117.161724}, 'AIR_TRAVEL', {'latitude': 44.879269, 'name': 'Minneapolis/St Paul, MN', 'longitude': -93.198708, 'node_id': 269, 'population': 3318000}, 'AIR_TRAVEL', {'latitude': 40.71455, 'name': 'New York, NY', 'population': 19020000, 'node_id': 294, 'longitude': -74.007124}, 'AIR_TRAVEL', {'latitude': 29.93767, 'name': 'St. Johns, NL', 'population': 106172, 'node_id': 401, 'longitude': -81.452057}], 'rels': [({'latitude': 32.715685, 'name': 'San Diego, CA', 'population': 3140000, 'node_id': 367, 'longitude': -117.161724}, 'AIR_TRAVEL', {'latitude': 44.879269, 'name': 'Minneapolis/St Paul, MN', 'longitude': -93.198708, 'node_id': 269, 'population': 3318000}), ({'latitude': 44.879269, 'name': 'Minneapolis/St Paul, MN', 'longitude': -93.198708, 'node_id': 269, 'population': 3318000}, 'AIR_TRAVEL', {'latitude': 40.71455, 'name': 'New York, NY', 'population': 19020000, 'node_id': 294, 'longitude': -74.007124}), ({'latitude': 40.71455, 'name': 'New York, NY', 'population': 19020000, 'node_id': 294, 'longitude': -74.007124}, 'AIR_TRAVEL', {'latitude': 29.93767, 'name': 'St. Johns, NL', 'population': 106172, 'node_id': 401, 'longitude': -81.452057})]}, {'p': [{'latitude': 32.715685, 'name': 'San Diego, CA', 'population': 3140000, 'node_id': 367, 'longitude': -117.161724}, 'AIR_TRAVEL', {'latitude': 44.879269, 'name': 'Minneapolis/St Paul, MN', 'longitude': -93.198708, 'node_id': 269, 'population': 3318000}, 'AIR_TRAVEL', {'latitude': 45.4215, 'name': 'Ottawa, ON', 'population': 1153000, 'node_id': 309, 'longitude': -75.691894}, 'AIR_TRAVEL', {'latitude': 29.93767, 'name': 'St. Johns, NL', 'population': 106172, 'node_id': 401, 'longitude': -81.452057}], 'rels': [({'latitude': 32.715685, 'name': 'San Diego, CA', 'population': 3140000, 'node_id': 367, 'longitude': -117.161724}, 'AIR_TRAVEL', {'latitude': 44.879269, 'name': 'Minneapolis/St Paul, MN', 'longitude': -93.198708, 'node_id': 269, 'population': 3318000}), ({'latitude': 44.879269, 'name': 'Minneapolis/St Paul, MN', 'longitude': -93.198708, 'node_id': 269, 'population': 3318000}, 'AIR_TRAVEL', {'latitude': 45.4215, 'name': 'Ottawa, ON', 'population': 1153000, 'node_id': 309, 'longitude': -75.691894}), ({'latitude': 45.4215, 'name': 'Ottawa, ON', 'population': 1153000, 'node_id': 309, 'longitude': -75.691894}, 'AIR_TRAVEL', {'latitude': 29.93767, 'name': 'St. Johns, NL', 'population': 106172, 'node_id': 401, 'longitude': -81.452057})]}, {'p': [{'latitude': 32.715685, 'name': 'San Diego, CA', 'population': 3140000, 'node_id': 367, 'longitude': -117.161724}, 'AIR_TRAVEL', {'latitude': 38.62774, 'name': 'St. Louis, MO', 'population': 2817000, 'node_id': 402, 'longitude': -90.199514}, 'AIR_TRAVEL', {'latitude': 45.4215, 'name': 'Ottawa, ON', 'population': 1153000, 'node_id': 309, 'longitude': -75.691894}, 'AIR_TRAVEL', {'latitude': 29.93767, 'name': 'St. Johns, NL', 'population': 106172, 'node_id': 401, 'longitude': -81.452057}], 'rels': [({'latitude': 32.715685, 'name': 'San Diego, CA', 'population': 3140000, 'node_id': 367, 'longitude': -117.161724}, 'AIR_TRAVEL', {'latitude': 38.62774, 'name': 'St. Louis, MO', 'population': 2817000, 'node_id': 402, 'longitude': -90.199514}), ({'latitude': 38.62774, 'name': 'St. Louis, MO', 'population': 2817000, 'node_id': 402, 'longitude': -90.199514}, 'AIR_TRAVEL', {'latitude': 45.4215, 'name': 'Ottawa, ON', 'population': 1153000, 'node_id': 309, 'longitude': -75.691894}), ({'latitude': 45.4215, 'name': 'Ottawa, ON', 'population': 1153000, 'node_id': 309, 'longitude': -75.691894}, 'AIR_TRAVEL', {'latitude': 29.93767, 'name': 'St. Johns, NL', 'population': 106172, 'node_id': 401, 'longitude': -81.452057})]}, {'p': [{'latitude': 32.715685, 'name': 'San Diego, CA', 'population': 3140000, 'node_id': 367, 'longitude': -117.161724}, 'AIR_TRAVEL', {'latitude': 38.62774, 'name': 'St. Louis, MO', 'population': 2817000, 'node_id': 402, 'longitude': -90.199514}, 'AIR_TRAVEL', {'latitude': 40.71455, 'name': 'New York, NY', 'population': 19020000, 'node_id': 294, 'longitude': -74.007124}, 'AIR_TRAVEL', {'latitude': 29.93767, 'name': 'St. Johns, NL', 'population': 106172, 'node_id': 401, 'longitude': -81.452057}], 'rels': [({'latitude': 32.715685, 'name': 'San Diego, CA', 'population': 3140000, 'node_id': 367, 'longitude': -117.161724}, 'AIR_TRAVEL', {'latitude': 38.62774, 'name': 'St. Louis, MO', 'population': 2817000, 'node_id': 402, 'longitude': -90.199514}), ({'latitude': 38.62774, 'name': 'St. Louis, MO', 'population': 2817000, 'node_id': 402, 'longitude': -90.199514}, 'AIR_TRAVEL', {'latitude': 40.71455, 'name': 'New York, NY', 'population': 19020000, 'node_id': 294, 'longitude': -74.007124}), ({'latitude': 40.71455, 'name': 'New York, NY', 'population': 19020000, 'node_id': 294, 'longitude': -74.007124}, 'AIR_TRAVEL', {'latitude': 29.93767, 'name': 'St. Johns, NL', 'population': 106172, 'node_id': 401, 'longitude': -81.452057})]}, {'p': [{'latitude': 32.715685, 'name': 'San Diego, CA', 'population': 3140000, 'node_id': 367, 'longitude': -117.161724}, 'AIR_TRAVEL', {'latitude': 38.62774, 'name': 'St. Louis, MO', 'population': 2817000, 'node_id': 402, 'longitude': -90.199514}, 'AIR_TRAVEL', {'latitude': 43.648565, 'name': 'Toronto, ON', 'population': 6324000, 'node_id': 416, 'longitude': -79.385329}, 'AIR_TRAVEL', {'latitude': 29.93767, 'name': 'St. Johns, NL', 'population': 106172, 'node_id': 401, 'longitude': -81.452057}], 'rels': [({'latitude': 32.715685, 'name': 'San Diego, CA', 'population': 3140000, 'node_id': 367, 'longitude': -117.161724}, 'AIR_TRAVEL', {'latitude': 38.62774, 'name': 'St. Louis, MO', 'population': 2817000, 'node_id': 402, 'longitude': -90.199514}), ({'latitude': 38.62774, 'name': 'St. Louis, MO', 'population': 2817000, 'node_id': 402, 'longitude': -90.199514}, 'AIR_TRAVEL', {'latitude': 43.648565, 'name': 'Toronto, ON', 'population': 6324000, 'node_id': 416, 'longitude': -79.385329}), ({'latitude': 43.648565, 'name': 'Toronto, ON', 'population': 6324000, 'node_id': 416, 'longitude': -79.385329}, 'AIR_TRAVEL', {'latitude': 29.93767, 'name': 'St. Johns, NL', 'population': 106172, 'node_id': 401, 'longitude': -81.452057})]}, {'p': [{'latitude': 32.715685, 'name': 'San Diego, CA', 'population': 3140000, 'node_id': 367, 'longitude': -117.161724}, 'AIR_TRAVEL', {'latitude': 38.62774, 'name': 'St. Louis, MO', 'population': 2817000, 'node_id': 402, 'longitude': -90.199514}, 'AIR_TRAVEL', {'latitude': 45.512288, 'name': 'Montreal, QC', 'population': 3764000, 'node_id': 280, 'longitude': -73.554392}, 'AIR_TRAVEL', {'latitude': 29.93767, 'name': 'St. Johns, NL', 'population': 106172, 'node_id': 401, 'longitude': -81.452057}], 'rels': [({'latitude': 32.715685, 'name': 'San Diego, CA', 'population': 3140000, 'node_id': 367, 'longitude': -117.161724}, 'AIR_TRAVEL', {'latitude': 38.62774, 'name': 'St. Louis, MO', 'population': 2817000, 'node_id': 402, 'longitude': -90.199514}), ({'latitude': 38.62774, 'name': 'St. Louis, MO', 'population': 2817000, 'node_id': 402, 'longitude': -90.199514}, 'AIR_TRAVEL', {'latitude': 45.512288, 'name': 'Montreal, QC', 'population': 3764000, 'node_id': 280, 'longitude': -73.554392}), ({'latitude': 45.512288, 'name': 'Montreal, QC', 'population': 3764000, 'node_id': 280, 'longitude': -73.554392}, 'AIR_TRAVEL', {'latitude': 29.93767, 'name': 'St. Johns, NL', 'population': 106172, 'node_id': 401, 'longitude': -81.452057})]}, {'p': [{'latitude': 32.715685, 'name': 'San Diego, CA', 'population': 3140000, 'node_id': 367, 'longitude': -117.161724}, 'AIR_TRAVEL', {'latitude': 36.167762, 'name': 'Nashville, TN', 'population': 1617000, 'node_id': 290, 'longitude': -86.778366}, 'AIR_TRAVEL', {'latitude': 45.512288, 'name': 'Montreal, QC', 'population': 3764000, 'node_id': 280, 'longitude': -73.554392}, 'AIR_TRAVEL', {'latitude': 29.93767, 'name': 'St. Johns, NL', 'population': 106172, 'node_id': 401, 'longitude': -81.452057}], 'rels': [({'latitude': 32.715685, 'name': 'San Diego, CA', 'population': 3140000, 'node_id': 367, 'longitude': -117.161724}, 'AIR_TRAVEL', {'latitude': 36.167762, 'name': 'Nashville, TN', 'population': 1617000, 'node_id': 290, 'longitude': -86.778366}), ({'latitude': 36.167762, 'name': 'Nashville, TN', 'population': 1617000, 'node_id': 290, 'longitude': -86.778366}, 'AIR_TRAVEL', {'latitude': 45.512288, 'name': 'Montreal, QC', 'population': 3764000, 'node_id': 280, 'longitude': -73.554392}), ({'latitude': 45.512288, 'name': 'Montreal, QC', 'population': 3764000, 'node_id': 280, 'longitude': -73.554392}, 'AIR_TRAVEL', {'latitude': 29.93767, 'name': 'St. Johns, NL', 'population': 106172, 'node_id': 401, 'longitude': -81.452057})]}, {'p': [{'latitude': 32.715685, 'name': 'San Diego, CA', 'population': 3140000, 'node_id': 367, 'longitude': -117.161724}, 'AIR_TRAVEL', {'latitude': 36.167762, 'name': 'Nashville, TN', 'population': 1617000, 'node_id': 290, 'longitude': -86.778366}, 'AIR_TRAVEL', {'latitude': 45.4215, 'name': 'Ottawa, ON', 'population': 1153000, 'node_id': 309, 'longitude': -75.691894}, 'AIR_TRAVEL', {'latitude': 29.93767, 'name': 'St. Johns, NL', 'population': 106172, 'node_id': 401, 'longitude': -81.452057}], 'rels': [({'latitude': 32.715685, 'name': 'San Diego, CA', 'population': 3140000, 'node_id': 367, 'longitude': -117.161724}, 'AIR_TRAVEL', {'latitude': 36.167762, 'name': 'Nashville, TN', 'population': 1617000, 'node_id': 290, 'longitude': -86.778366}), ({'latitude': 36.167762, 'name': 'Nashville, TN', 'population': 1617000, 'node_id': 290, 'longitude': -86.778366}, 'AIR_TRAVEL', {'latitude': 45.4215, 'name': 'Ottawa, ON', 'population': 1153000, 'node_id': 309, 'longitude': -75.691894}), ({'latitude': 45.4215, 'name': 'Ottawa, ON', 'population': 1153000, 'node_id': 309, 'longitude': -75.691894}, 'AIR_TRAVEL', {'latitude': 29.93767, 'name': 'St. Johns, NL', 'population': 106172, 'node_id': 401, 'longitude': -81.452057})]}, {'p': [{'latitude': 32.715685, 'name': 'San Diego, CA', 'population': 3140000, 'node_id': 367, 'longitude': -117.161724}, 'AIR_TRAVEL', {'latitude': 36.167762, 'name': 'Nashville, TN', 'population': 1617000, 'node_id': 290, 'longitude': -86.778366}, 'AIR_TRAVEL', {'latitude': 43.648565, 'name': 'Toronto, ON', 'population': 6324000, 'node_id': 416, 'longitude': -79.385329}, 'AIR_TRAVEL', {'latitude': 29.93767, 'name': 'St. Johns, NL', 'population': 106172, 'node_id': 401, 'longitude': -81.452057}], 'rels': [({'latitude': 32.715685, 'name': 'San Diego, CA', 'population': 3140000, 'node_id': 367, 'longitude': -117.161724}, 'AIR_TRAVEL', {'latitude': 36.167762, 'name': 'Nashville, TN', 'population': 1617000, 'node_id': 290, 'longitude': -86.778366}), ({'latitude': 36.167762, 'name': 'Nashville, TN', 'population': 1617000, 'node_id': 290, 'longitude': -86.778366}, 'AIR_TRAVEL', {'latitude': 43.648565, 'name': 'Toronto, ON', 'population': 6324000, 'node_id': 416, 'longitude': -79.385329}), ({'latitude': 43.648565, 'name': 'Toronto, ON', 'population': 6324000, 'node_id': 416, 'longitude': -79.385329}, 'AIR_TRAVEL', {'latitude': 29.93767, 'name': 'St. Johns, NL', 'population': 106172, 'node_id': 401, 'longitude': -81.452057})]}, {'p': [{'latitude': 32.715685, 'name': 'San Diego, CA', 'population': 3140000, 'node_id': 367, 'longitude': -117.161724}, 'AIR_TRAVEL', {'latitude': 36.167762, 'name': 'Nashville, TN', 'population': 1617000, 'node_id': 290, 'longitude': -86.778366}, 'AIR_TRAVEL', {'latitude': 40.71455, 'name': 'New York, NY', 'population': 19020000, 'node_id': 294, 'longitude': -74.007124}, 'AIR_TRAVEL', {'latitude': 29.93767, 'name': 'St. Johns, NL', 'population': 106172, 'node_id': 401, 'longitude': -81.452057}], 'rels': [({'latitude': 32.715685, 'name': 'San Diego, CA', 'population': 3140000, 'node_id': 367, 'longitude': -117.161724}, 'AIR_TRAVEL', {'latitude': 36.167762, 'name': 'Nashville, TN', 'population': 1617000, 'node_id': 290, 'longitude': -86.778366}), ({'latitude': 36.167762, 'name': 'Nashville, TN', 'population': 1617000, 'node_id': 290, 'longitude': -86.778366}, 'AIR_TRAVEL', {'latitude': 40.71455, 'name': 'New York, NY', 'population': 19020000, 'node_id': 294, 'longitude': -74.007124}), ({'latitude': 40.71455, 'name': 'New York, NY', 'population': 19020000, 'node_id': 294, 'longitude': -74.007124}, 'AIR_TRAVEL', {'latitude': 29.93767, 'name': 'St. Johns, NL', 'population': 106172, 'node_id': 401, 'longitude': -81.452057})]}, {'p': [{'latitude': 32.715685, 'name': 'San Diego, CA', 'population': 3140000, 'node_id': 367, 'longitude': -117.161724}, 'AIR_TRAVEL', {'latitude': 33.44826, 'name': 'Phoenix, AZ', 'population': 4263000, 'node_id': 324, 'longitude': -112.075774}, 'AIR_TRAVEL', {'latitude': 43.648565, 'name': 'Toronto, ON', 'population': 6324000, 'node_id': 416, 'longitude': -79.385329}, 'AIR_TRAVEL', {'latitude': 29.93767, 'name': 'St. Johns, NL', 'population': 106172, 'node_id': 401, 'longitude': -81.452057}], 'rels': [({'latitude': 32.715685, 'name': 'San Diego, CA', 'population': 3140000, 'node_id': 367, 'longitude': -117.161724}, 'AIR_TRAVEL', {'latitude': 33.44826, 'name': 'Phoenix, AZ', 'population': 4263000, 'node_id': 324, 'longitude': -112.075774}), ({'latitude': 33.44826, 'name': 'Phoenix, AZ', 'population': 4263000, 'node_id': 324, 'longitude': -112.075774}, 'AIR_TRAVEL', {'latitude': 43.648565, 'name': 'Toronto, ON', 'population': 6324000, 'node_id': 416, 'longitude': -79.385329}), ({'latitude': 43.648565, 'name': 'Toronto, ON', 'population': 6324000, 'node_id': 416, 'longitude': -79.385329}, 'AIR_TRAVEL', {'latitude': 29.93767, 'name': 'St. Johns, NL', 'population': 106172, 'node_id': 401, 'longitude': -81.452057})]}, {'p': [{'latitude': 32.715685, 'name': 'San Diego, CA', 'population': 3140000, 'node_id': 367, 'longitude': -117.161724}, 'AIR_TRAVEL', {'latitude': 41.88415, 'name': 'Chicago, IL', 'population': 9505000, 'node_id': 74, 'longitude': -87.632409}, 'AIR_TRAVEL', {'latitude': 45.4215, 'name': 'Ottawa, ON', 'population': 1153000, 'node_id': 309, 'longitude': -75.691894}, 'AIR_TRAVEL', {'latitude': 29.93767, 'name': 'St. Johns, NL', 'population': 106172, 'node_id': 401, 'longitude': -81.452057}], 'rels': [({'latitude': 32.715685, 'name': 'San Diego, CA', 'population': 3140000, 'node_id': 367, 'longitude': -117.161724}, 'AIR_TRAVEL', {'latitude': 41.88415, 'name': 'Chicago, IL', 'population': 9505000, 'node_id': 74, 'longitude': -87.632409}), ({'latitude': 41.88415, 'name': 'Chicago, IL', 'population': 9505000, 'node_id': 74, 'longitude': -87.632409}, 'AIR_TRAVEL', {'latitude': 45.4215, 'name': 'Ottawa, ON', 'population': 1153000, 'node_id': 309, 'longitude': -75.691894}), ({'latitude': 45.4215, 'name': 'Ottawa, ON', 'population': 1153000, 'node_id': 309, 'longitude': -75.691894}, 'AIR_TRAVEL', {'latitude': 29.93767, 'name': 'St. Johns, NL', 'population': 106172, 'node_id': 401, 'longitude': -81.452057})]}, {'p': [{'latitude': 32.715685, 'name': 'San Diego, CA', 'population': 3140000, 'node_id': 367, 'longitude': -117.161724}, 'AIR_TRAVEL', {'latitude': 41.88415, 'name': 'Chicago, IL', 'population': 9505000, 'node_id': 74, 'longitude': -87.632409}, 'AIR_TRAVEL', {'latitude': 45.512288, 'name': 'Montreal, QC', 'population': 3764000, 'node_id': 280, 'longitude': -73.554392}, 'AIR_TRAVEL', {'latitude': 29.93767, 'name': 'St. Johns, NL', 'population': 106172, 'node_id': 401, 'longitude': -81.452057}], 'rels': [({'latitude': 32.715685, 'name': 'San Diego, CA', 'population': 3140000, 'node_id': 367, 'longitude': -117.161724}, 'AIR_TRAVEL', {'latitude': 41.88415, 'name': 'Chicago, IL', 'population': 9505000, 'node_id': 74, 'longitude': -87.632409}), ({'latitude': 41.88415, 'name': 'Chicago, IL', 'population': 9505000, 'node_id': 74, 'longitude': -87.632409}, 'AIR_TRAVEL', {'latitude': 45.512288, 'name': 'Montreal, QC', 'population': 3764000, 'node_id': 280, 'longitude': -73.554392}), ({'latitude': 45.512288, 'name': 'Montreal, QC', 'population': 3764000, 'node_id': 280, 'longitude': -73.554392}, 'AIR_TRAVEL', {'latitude': 29.93767, 'name': 'St. Johns, NL', 'population': 106172, 'node_id': 401, 'longitude': -81.452057})]}, {'p': [{'latitude': 32.715685, 'name': 'San Diego, CA', 'population': 3140000, 'node_id': 367, 'longitude': -117.161724}, 'AIR_TRAVEL', {'latitude': 41.88415, 'name': 'Chicago, IL', 'population': 9505000, 'node_id': 74, 'longitude': -87.632409}, 'AIR_TRAVEL', {'latitude': 40.71455, 'name': 'New York, NY', 'population': 19020000, 'node_id': 294, 'longitude': -74.007124}, 'AIR_TRAVEL', {'latitude': 29.93767, 'name': 'St. Johns, NL', 'population': 106172, 'node_id': 401, 'longitude': -81.452057}], 'rels': [({'latitude': 32.715685, 'name': 'San Diego, CA', 'population': 3140000, 'node_id': 367, 'longitude': -117.161724}, 'AIR_TRAVEL', {'latitude': 41.88415, 'name': 'Chicago, IL', 'population': 9505000, 'node_id': 74, 'longitude': -87.632409}), ({'latitude': 41.88415, 'name': 'Chicago, IL', 'population': 9505000, 'node_id': 74, 'longitude': -87.632409}, 'AIR_TRAVEL', {'latitude': 40.71455, 'name': 'New York, NY', 'population': 19020000, 'node_id': 294, 'longitude': -74.007124}), ({'latitude': 40.71455, 'name': 'New York, NY', 'population': 19020000, 'node_id': 294, 'longitude': -74.007124}, 'AIR_TRAVEL', {'latitude': 29.93767, 'name': 'St. Johns, NL', 'population': 106172, 'node_id': 401, 'longitude': -81.452057})]}, {'p': [{'latitude': 32.715685, 'name': 'San Diego, CA', 'population': 3140000, 'node_id': 367, 'longitude': -117.161724}, 'AIR_TRAVEL', {'latitude': 41.88415, 'name': 'Chicago, IL', 'population': 9505000, 'node_id': 74, 'longitude': -87.632409}, 'AIR_TRAVEL', {'latitude': 43.648565, 'name': 'Toronto, ON', 'population': 6324000, 'node_id': 416, 'longitude': -79.385329}, 'AIR_TRAVEL', {'latitude': 29.93767, 'name': 'St. Johns, NL', 'population': 106172, 'node_id': 401, 'longitude': -81.452057}], 'rels': [({'latitude': 32.715685, 'name': 'San Diego, CA', 'population': 3140000, 'node_id': 367, 'longitude': -117.161724}, 'AIR_TRAVEL', {'latitude': 41.88415, 'name': 'Chicago, IL', 'population': 9505000, 'node_id': 74, 'longitude': -87.632409}), ({'latitude': 41.88415, 'name': 'Chicago, IL', 'population': 9505000, 'node_id': 74, 'longitude': -87.632409}, 'AIR_TRAVEL', {'latitude': 43.648565, 'name': 'Toronto, ON', 'population': 6324000, 'node_id': 416, 'longitude': -79.385329}), ({'latitude': 43.648565, 'name': 'Toronto, ON', 'population': 6324000, 'node_id': 416, 'longitude': -79.385329}, 'AIR_TRAVEL', {'latitude': 29.93767, 'name': 'St. Johns, NL', 'population': 106172, 'node_id': 401, 'longitude': -81.452057})]}, {'p': [{'latitude': 32.715685, 'name': 'San Diego, CA', 'population': 3140000, 'node_id': 367, 'longitude': -117.161724}, 'AIR_TRAVEL', {'latitude': 32.922218, 'name': 'Dallas/Fort Worth, TX', 'longitude': -97.040901, 'node_id': 94, 'population': 6527000}, 'AIR_TRAVEL', {'latitude': 45.512288, 'name': 'Montreal, QC', 'population': 3764000, 'node_id': 280, 'longitude': -73.554392}, 'AIR_TRAVEL', {'latitude': 29.93767, 'name': 'St. Johns, NL', 'population': 106172, 'node_id': 401, 'longitude': -81.452057}], 'rels': [({'latitude': 32.715685, 'name': 'San Diego, CA', 'population': 3140000, 'node_id': 367, 'longitude': -117.161724}, 'AIR_TRAVEL', {'latitude': 32.922218, 'name': 'Dallas/Fort Worth, TX', 'longitude': -97.040901, 'node_id': 94, 'population': 6527000}), ({'latitude': 32.922218, 'name': 'Dallas/Fort Worth, TX', 'longitude': -97.040901, 'node_id': 94, 'population': 6527000}, 'AIR_TRAVEL', {'latitude': 45.512288, 'name': 'Montreal, QC', 'population': 3764000, 'node_id': 280, 'longitude': -73.554392}), ({'latitude': 45.512288, 'name': 'Montreal, QC', 'population': 3764000, 'node_id': 280, 'longitude': -73.554392}, 'AIR_TRAVEL', {'latitude': 29.93767, 'name': 'St. Johns, NL', 'population': 106172, 'node_id': 401, 'longitude': -81.452057})]}, {'p': [{'latitude': 32.715685, 'name': 'San Diego, CA', 'population': 3140000, 'node_id': 367, 'longitude': -117.161724}, 'AIR_TRAVEL', {'latitude': 32.922218, 'name': 'Dallas/Fort Worth, TX', 'longitude': -97.040901, 'node_id': 94, 'population': 6527000}, 'AIR_TRAVEL', {'latitude': 43.648565, 'name': 'Toronto, ON', 'population': 6324000, 'node_id': 416, 'longitude': -79.385329}, 'AIR_TRAVEL', {'latitude': 29.93767, 'name': 'St. Johns, NL', 'population': 106172, 'node_id': 401, 'longitude': -81.452057}], 'rels': [({'latitude': 32.715685, 'name': 'San Diego, CA', 'population': 3140000, 'node_id': 367, 'longitude': -117.161724}, 'AIR_TRAVEL', {'latitude': 32.922218, 'name': 'Dallas/Fort Worth, TX', 'longitude': -97.040901, 'node_id': 94, 'population': 6527000}), ({'latitude': 32.922218, 'name': 'Dallas/Fort Worth, TX', 'longitude': -97.040901, 'node_id': 94, 'population': 6527000}, 'AIR_TRAVEL', {'latitude': 43.648565, 'name': 'Toronto, ON', 'population': 6324000, 'node_id': 416, 'longitude': -79.385329}), ({'latitude': 43.648565, 'name': 'Toronto, ON', 'population': 6324000, 'node_id': 416, 'longitude': -79.385329}, 'AIR_TRAVEL', {'latitude': 29.93767, 'name': 'St. Johns, NL', 'population': 106172, 'node_id': 401, 'longitude': -81.452057})]}, {'p': [{'latitude': 32.715685, 'name': 'San Diego, CA', 'population': 3140000, 'node_id': 367, 'longitude': -117.161724}, 'AIR_TRAVEL', {'latitude': 32.922218, 'name': 'Dallas/Fort Worth, TX', 'longitude': -97.040901, 'node_id': 94, 'population': 6527000}, 'AIR_TRAVEL', {'latitude': 40.71455, 'name': 'New York, NY', 'population': 19020000, 'node_id': 294, 'longitude': -74.007124}, 'AIR_TRAVEL', {'latitude': 29.93767, 'name': 'St. Johns, NL', 'population': 106172, 'node_id': 401, 'longitude': -81.452057}], 'rels': [({'latitude': 32.715685, 'name': 'San Diego, CA', 'population': 3140000, 'node_id': 367, 'longitude': -117.161724}, 'AIR_TRAVEL', {'latitude': 32.922218, 'name': 'Dallas/Fort Worth, TX', 'longitude': -97.040901, 'node_id': 94, 'population': 6527000}), ({'latitude': 32.922218, 'name': 'Dallas/Fort Worth, TX', 'longitude': -97.040901, 'node_id': 94, 'population': 6527000}, 'AIR_TRAVEL', {'latitude': 40.71455, 'name': 'New York, NY', 'population': 19020000, 'node_id': 294, 'longitude': -74.007124}), ({'latitude': 40.71455, 'name': 'New York, NY', 'population': 19020000, 'node_id': 294, 'longitude': -74.007124}, 'AIR_TRAVEL', {'latitude': 29.93767, 'name': 'St. Johns, NL', 'population': 106172, 'node_id': 401, 'longitude': -81.452057})]}]\n",
      "40\n"
     ]
    }
   ],
   "source": [
    "print(result)\n",
    "print(len(result))"
   ]
  }
 ],
 "metadata": {
  "kernelspec": {
   "display_name": "Python 3",
   "language": "python",
   "name": "python3"
  },
  "language_info": {
   "codemirror_mode": {
    "name": "ipython",
    "version": 3
   },
   "file_extension": ".py",
   "mimetype": "text/x-python",
   "name": "python",
   "nbconvert_exporter": "python",
   "pygments_lexer": "ipython3",
   "version": "3.11.4"
  },
  "orig_nbformat": 4
 },
 "nbformat": 4,
 "nbformat_minor": 2
}
