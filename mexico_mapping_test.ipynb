{
 "cells": [
  {
   "cell_type": "code",
   "execution_count": 15,
   "metadata": {},
   "outputs": [],
   "source": [
    "import logging\n",
    "import neo4j\n",
    "\n",
    "\n",
    "def get_neo4j_connection() -> neo4j.Session:\n",
    "    \"\"\"\n",
    "    Gets a session to neo4j\n",
    "    \"\"\"\n",
    "    driver = neo4j.GraphDatabase.driver(\n",
    "        \"bolt://localhost:7687/\", auth=(\"neo4j\", \"neo4j222\")\n",
    "    )\n",
    "    try:\n",
    "        driver.verify_connectivity()\n",
    "        session = driver.session(database=\"neo4j\")\n",
    "        return session\n",
    "    except Exception as connection_error:\n",
    "        logging.error(\"Failed to establish session to neo4j\", connection_error)\n",
    "        session.close()\n",
    "        driver.close()"
   ]
  },
  {
   "cell_type": "code",
   "execution_count": 10,
   "metadata": {},
   "outputs": [
    {
     "ename": "TransientError",
     "evalue": "{code: Neo.TransientError.General.MemoryPoolOutOfMemoryError} {message: Unable to complete transaction.: The memory pool limit was exceeded. The corresponding setting can be found in the error message}",
     "output_type": "error",
     "traceback": [
      "\u001b[1;31m---------------------------------------------------------------------------\u001b[0m",
      "\u001b[1;31mTransientError\u001b[0m                            Traceback (most recent call last)",
      "\u001b[1;32mc:\\Users\\Dee\\root\\Projects\\dev\\devGraph\\graphCraft\\mexico_mapping_test.ipynb Cell 2\u001b[0m line \u001b[0;36m2\n\u001b[0;32m     <a href='vscode-notebook-cell:/c%3A/Users/Dee/root/Projects/dev/devGraph/graphCraft/mexico_mapping_test.ipynb#W1sZmlsZQ%3D%3D?line=9'>10</a>\u001b[0m     load_intersection_relation_query \u001b[39m=\u001b[39m \u001b[39m\"\"\"\u001b[39m\n\u001b[0;32m     <a href='vscode-notebook-cell:/c%3A/Users/Dee/root/Projects/dev/devGraph/graphCraft/mexico_mapping_test.ipynb#W1sZmlsZQ%3D%3D?line=10'>11</a>\u001b[0m \u001b[39m    LOAD CSV WITH HEADERS FROM \u001b[39m\u001b[39m'\u001b[39m\u001b[39mfile:///mexico_relations.csv\u001b[39m\u001b[39m'\u001b[39m\u001b[39m AS segment\u001b[39m\n\u001b[0;32m     <a href='vscode-notebook-cell:/c%3A/Users/Dee/root/Projects/dev/devGraph/graphCraft/mexico_mapping_test.ipynb#W1sZmlsZQ%3D%3D?line=11'>12</a>\u001b[0m \u001b[39m    CALL \u001b[39m\u001b[39m{\u001b[39m\n\u001b[1;32m   (...)\u001b[0m\n\u001b[0;32m     <a href='vscode-notebook-cell:/c%3A/Users/Dee/root/Projects/dev/devGraph/graphCraft/mexico_mapping_test.ipynb#W1sZmlsZQ%3D%3D?line=22'>23</a>\u001b[0m \u001b[39m    } IN TRANSACTIONS OF 1000 ROWS;\u001b[39m\n\u001b[0;32m     <a href='vscode-notebook-cell:/c%3A/Users/Dee/root/Projects/dev/devGraph/graphCraft/mexico_mapping_test.ipynb#W1sZmlsZQ%3D%3D?line=23'>24</a>\u001b[0m \u001b[39m    \u001b[39m\u001b[39m\"\"\"\u001b[39m\n\u001b[0;32m     <a href='vscode-notebook-cell:/c%3A/Users/Dee/root/Projects/dev/devGraph/graphCraft/mexico_mapping_test.ipynb#W1sZmlsZQ%3D%3D?line=24'>25</a>\u001b[0m     db_session\u001b[39m.\u001b[39mrun(load_intersection_relation_query)\n\u001b[1;32m---> <a href='vscode-notebook-cell:/c%3A/Users/Dee/root/Projects/dev/devGraph/graphCraft/mexico_mapping_test.ipynb#W1sZmlsZQ%3D%3D?line=26'>27</a>\u001b[0m load_intersection_relations()\n",
      "\u001b[1;32mc:\\Users\\Dee\\root\\Projects\\dev\\devGraph\\graphCraft\\mexico_mapping_test.ipynb Cell 2\u001b[0m line \u001b[0;36m2\n\u001b[0;32m      <a href='vscode-notebook-cell:/c%3A/Users/Dee/root/Projects/dev/devGraph/graphCraft/mexico_mapping_test.ipynb#W1sZmlsZQ%3D%3D?line=8'>9</a>\u001b[0m db_session \u001b[39m=\u001b[39m get_neo4j_connection()\n\u001b[0;32m     <a href='vscode-notebook-cell:/c%3A/Users/Dee/root/Projects/dev/devGraph/graphCraft/mexico_mapping_test.ipynb#W1sZmlsZQ%3D%3D?line=9'>10</a>\u001b[0m load_intersection_relation_query \u001b[39m=\u001b[39m \u001b[39m\"\"\"\u001b[39m\n\u001b[0;32m     <a href='vscode-notebook-cell:/c%3A/Users/Dee/root/Projects/dev/devGraph/graphCraft/mexico_mapping_test.ipynb#W1sZmlsZQ%3D%3D?line=10'>11</a>\u001b[0m \u001b[39mLOAD CSV WITH HEADERS FROM \u001b[39m\u001b[39m'\u001b[39m\u001b[39mfile:///mexico_relations.csv\u001b[39m\u001b[39m'\u001b[39m\u001b[39m AS segment\u001b[39m\n\u001b[0;32m     <a href='vscode-notebook-cell:/c%3A/Users/Dee/root/Projects/dev/devGraph/graphCraft/mexico_mapping_test.ipynb#W1sZmlsZQ%3D%3D?line=11'>12</a>\u001b[0m \u001b[39mCALL \u001b[39m\u001b[39m{\u001b[39m\n\u001b[1;32m   (...)\u001b[0m\n\u001b[0;32m     <a href='vscode-notebook-cell:/c%3A/Users/Dee/root/Projects/dev/devGraph/graphCraft/mexico_mapping_test.ipynb#W1sZmlsZQ%3D%3D?line=22'>23</a>\u001b[0m \u001b[39m} IN TRANSACTIONS OF 1000 ROWS;\u001b[39m\n\u001b[0;32m     <a href='vscode-notebook-cell:/c%3A/Users/Dee/root/Projects/dev/devGraph/graphCraft/mexico_mapping_test.ipynb#W1sZmlsZQ%3D%3D?line=23'>24</a>\u001b[0m \u001b[39m\u001b[39m\u001b[39m\"\"\"\u001b[39m\n\u001b[1;32m---> <a href='vscode-notebook-cell:/c%3A/Users/Dee/root/Projects/dev/devGraph/graphCraft/mexico_mapping_test.ipynb#W1sZmlsZQ%3D%3D?line=24'>25</a>\u001b[0m db_session\u001b[39m.\u001b[39;49mrun(load_intersection_relation_query)\n",
      "File \u001b[1;32mc:\\Users\\Dee\\root\\Projects\\dev\\devGraph\\venv\\Lib\\site-packages\\neo4j\\_sync\\work\\session.py:311\u001b[0m, in \u001b[0;36mSession.run\u001b[1;34m(self, query, parameters, **kwargs)\u001b[0m\n\u001b[0;32m    309\u001b[0m bookmarks \u001b[39m=\u001b[39m \u001b[39mself\u001b[39m\u001b[39m.\u001b[39m_get_bookmarks()\n\u001b[0;32m    310\u001b[0m parameters \u001b[39m=\u001b[39m \u001b[39mdict\u001b[39m(parameters \u001b[39mor\u001b[39;00m {}, \u001b[39m*\u001b[39m\u001b[39m*\u001b[39mkwargs)\n\u001b[1;32m--> 311\u001b[0m \u001b[39mself\u001b[39;49m\u001b[39m.\u001b[39;49m_auto_result\u001b[39m.\u001b[39;49m_run(\n\u001b[0;32m    312\u001b[0m     query, parameters, \u001b[39mself\u001b[39;49m\u001b[39m.\u001b[39;49m_config\u001b[39m.\u001b[39;49mdatabase,\n\u001b[0;32m    313\u001b[0m     \u001b[39mself\u001b[39;49m\u001b[39m.\u001b[39;49m_config\u001b[39m.\u001b[39;49mimpersonated_user, \u001b[39mself\u001b[39;49m\u001b[39m.\u001b[39;49m_config\u001b[39m.\u001b[39;49mdefault_access_mode,\n\u001b[0;32m    314\u001b[0m     bookmarks, \u001b[39mself\u001b[39;49m\u001b[39m.\u001b[39;49m_config\u001b[39m.\u001b[39;49mnotifications_min_severity,\n\u001b[0;32m    315\u001b[0m     \u001b[39mself\u001b[39;49m\u001b[39m.\u001b[39;49m_config\u001b[39m.\u001b[39;49mnotifications_disabled_categories,\n\u001b[0;32m    316\u001b[0m )\n\u001b[0;32m    318\u001b[0m \u001b[39mreturn\u001b[39;00m \u001b[39mself\u001b[39m\u001b[39m.\u001b[39m_auto_result\n",
      "File \u001b[1;32mc:\\Users\\Dee\\root\\Projects\\dev\\devGraph\\venv\\Lib\\site-packages\\neo4j\\_sync\\work\\result.py:166\u001b[0m, in \u001b[0;36mResult._run\u001b[1;34m(self, query, parameters, db, imp_user, access_mode, bookmarks, notifications_min_severity, notifications_disabled_categories)\u001b[0m\n\u001b[0;32m    164\u001b[0m \u001b[39mself\u001b[39m\u001b[39m.\u001b[39m_pull()\n\u001b[0;32m    165\u001b[0m \u001b[39mself\u001b[39m\u001b[39m.\u001b[39m_connection\u001b[39m.\u001b[39msend_all()\n\u001b[1;32m--> 166\u001b[0m \u001b[39mself\u001b[39;49m\u001b[39m.\u001b[39;49m_attach()\n",
      "File \u001b[1;32mc:\\Users\\Dee\\root\\Projects\\dev\\devGraph\\venv\\Lib\\site-packages\\neo4j\\_sync\\work\\result.py:274\u001b[0m, in \u001b[0;36mResult._attach\u001b[1;34m(self)\u001b[0m\n\u001b[0;32m    272\u001b[0m \u001b[39mif\u001b[39;00m \u001b[39mself\u001b[39m\u001b[39m.\u001b[39m_exhausted \u001b[39mis\u001b[39;00m \u001b[39mFalse\u001b[39;00m:\n\u001b[0;32m    273\u001b[0m     \u001b[39mwhile\u001b[39;00m \u001b[39mself\u001b[39m\u001b[39m.\u001b[39m_attached \u001b[39mis\u001b[39;00m \u001b[39mFalse\u001b[39;00m:\n\u001b[1;32m--> 274\u001b[0m         \u001b[39mself\u001b[39;49m\u001b[39m.\u001b[39;49m_connection\u001b[39m.\u001b[39;49mfetch_message()\n",
      "File \u001b[1;32mc:\\Users\\Dee\\root\\Projects\\dev\\devGraph\\venv\\Lib\\site-packages\\neo4j\\_sync\\io\\_common.py:180\u001b[0m, in \u001b[0;36mConnectionErrorHandler.__getattr__.<locals>.outer.<locals>.inner\u001b[1;34m(*args, **kwargs)\u001b[0m\n\u001b[0;32m    178\u001b[0m \u001b[39mdef\u001b[39;00m \u001b[39minner\u001b[39m(\u001b[39m*\u001b[39margs, \u001b[39m*\u001b[39m\u001b[39m*\u001b[39mkwargs):\n\u001b[0;32m    179\u001b[0m     \u001b[39mtry\u001b[39;00m:\n\u001b[1;32m--> 180\u001b[0m         func(\u001b[39m*\u001b[39;49margs, \u001b[39m*\u001b[39;49m\u001b[39m*\u001b[39;49mkwargs)\n\u001b[0;32m    181\u001b[0m     \u001b[39mexcept\u001b[39;00m (Neo4jError, ServiceUnavailable, SessionExpired) \u001b[39mas\u001b[39;00m exc:\n\u001b[0;32m    182\u001b[0m         \u001b[39massert\u001b[39;00m \u001b[39mnot\u001b[39;00m asyncio\u001b[39m.\u001b[39miscoroutinefunction(\u001b[39mself\u001b[39m\u001b[39m.\u001b[39m__on_error)\n",
      "File \u001b[1;32mc:\\Users\\Dee\\root\\Projects\\dev\\devGraph\\venv\\Lib\\site-packages\\neo4j\\_sync\\io\\_bolt.py:808\u001b[0m, in \u001b[0;36mBolt.fetch_message\u001b[1;34m(self)\u001b[0m\n\u001b[0;32m    804\u001b[0m \u001b[39m# Receive exactly one message\u001b[39;00m\n\u001b[0;32m    805\u001b[0m tag, fields \u001b[39m=\u001b[39m \u001b[39mself\u001b[39m\u001b[39m.\u001b[39minbox\u001b[39m.\u001b[39mpop(\n\u001b[0;32m    806\u001b[0m     hydration_hooks\u001b[39m=\u001b[39m\u001b[39mself\u001b[39m\u001b[39m.\u001b[39mresponses[\u001b[39m0\u001b[39m]\u001b[39m.\u001b[39mhydration_hooks\n\u001b[0;32m    807\u001b[0m )\n\u001b[1;32m--> 808\u001b[0m res \u001b[39m=\u001b[39m \u001b[39mself\u001b[39;49m\u001b[39m.\u001b[39;49m_process_message(tag, fields)\n\u001b[0;32m    809\u001b[0m \u001b[39mself\u001b[39m\u001b[39m.\u001b[39midle_since \u001b[39m=\u001b[39m perf_counter()\n\u001b[0;32m    810\u001b[0m \u001b[39mreturn\u001b[39;00m res\n",
      "File \u001b[1;32mc:\\Users\\Dee\\root\\Projects\\dev\\devGraph\\venv\\Lib\\site-packages\\neo4j\\_sync\\io\\_bolt5.py:361\u001b[0m, in \u001b[0;36mBolt5x0._process_message\u001b[1;34m(self, tag, fields)\u001b[0m\n\u001b[0;32m    359\u001b[0m \u001b[39mself\u001b[39m\u001b[39m.\u001b[39m_server_state_manager\u001b[39m.\u001b[39mstate \u001b[39m=\u001b[39m \u001b[39mself\u001b[39m\u001b[39m.\u001b[39mserver_states\u001b[39m.\u001b[39mFAILED\n\u001b[0;32m    360\u001b[0m \u001b[39mtry\u001b[39;00m:\n\u001b[1;32m--> 361\u001b[0m     response\u001b[39m.\u001b[39;49mon_failure(summary_metadata \u001b[39mor\u001b[39;49;00m {})\n\u001b[0;32m    362\u001b[0m \u001b[39mexcept\u001b[39;00m (ServiceUnavailable, DatabaseUnavailable):\n\u001b[0;32m    363\u001b[0m     \u001b[39mif\u001b[39;00m \u001b[39mself\u001b[39m\u001b[39m.\u001b[39mpool:\n",
      "File \u001b[1;32mc:\\Users\\Dee\\root\\Projects\\dev\\devGraph\\venv\\Lib\\site-packages\\neo4j\\_sync\\io\\_common.py:247\u001b[0m, in \u001b[0;36mResponse.on_failure\u001b[1;34m(self, metadata)\u001b[0m\n\u001b[0;32m    245\u001b[0m handler \u001b[39m=\u001b[39m \u001b[39mself\u001b[39m\u001b[39m.\u001b[39mhandlers\u001b[39m.\u001b[39mget(\u001b[39m\"\u001b[39m\u001b[39mon_summary\u001b[39m\u001b[39m\"\u001b[39m)\n\u001b[0;32m    246\u001b[0m Util\u001b[39m.\u001b[39mcallback(handler)\n\u001b[1;32m--> 247\u001b[0m \u001b[39mraise\u001b[39;00m Neo4jError\u001b[39m.\u001b[39mhydrate(\u001b[39m*\u001b[39m\u001b[39m*\u001b[39mmetadata)\n",
      "\u001b[1;31mTransientError\u001b[0m: {code: Neo.TransientError.General.MemoryPoolOutOfMemoryError} {message: Unable to complete transaction.: The memory pool limit was exceeded. The corresponding setting can be found in the error message}"
     ]
    }
   ],
   "source": [
    "def load_intersection_relations() -> None:\n",
    "    \"\"\"\n",
    "    Load the roads into neo4j\n",
    "\n",
    "    :param db_session: Session for a neo4j connection\n",
    "    :return: None\n",
    "    \"\"\"\n",
    "    logging.info(\"Loading road network connections into neo4j\")\n",
    "    db_session = get_neo4j_connection()\n",
    "    load_intersection_relation_query = \"\"\"\n",
    "    LOAD CSV WITH HEADERS FROM 'file:///mexico_relations.csv' AS segment\n",
    "    CALL {\n",
    "        WITH segment\n",
    "        MATCH(intersection_a:Intersection {osmid: segment.u})\n",
    "        MATCH(intersection_b: Intersection {osmid: segment.v})\n",
    "        MERGE (intersection_a)-[road_segment:ROAD_SEGMENT {osmid: segment.osmid}]->(intersection_b)\n",
    "        SET road_segment.oneway = segment.oneway,\n",
    "        road_segment.ref = segment.ref,\n",
    "        road_segment.name = segment.name,\n",
    "        road_segment.highway = segment.highway,\n",
    "        road_segment.max_speed = segment.maxspeed,\n",
    "        road_segment.length = toFloat(segment.length)\n",
    "    } IN TRANSACTIONS OF 1000 ROWS;\n",
    "    \"\"\"\n",
    "    db_session.run(load_intersection_relation_query)\n",
    "    \n",
    "load_intersection_relations()"
   ]
  },
  {
   "cell_type": "code",
   "execution_count": 17,
   "metadata": {},
   "outputs": [],
   "source": [
    "def count_load_addresses() -> None:\n",
    "    logging.info(\"Loading addresses into Neo4j and count\")\n",
    "    \n",
    "    db_session = get_neo4j_connection()\n",
    "    \n",
    "    load_address_query_count = '''\n",
    "    \n",
    "    CALL apoc.load.json(\"https://cdn.neo4jlabs.com/data/addresses/san_mateo.geojson\") YIELD value\n",
    "    RETURN COUNT(value) AS num\n",
    "    '''\n",
    "    db_session.run(load_address_query_count)"
   ]
  },
  {
   "cell_type": "code",
   "execution_count": 18,
   "metadata": {},
   "outputs": [],
   "source": [
    "count_load_addresses()"
   ]
  },
  {
   "cell_type": "code",
   "execution_count": 11,
   "metadata": {},
   "outputs": [],
   "source": [
    "def create_indices() -> None:\n",
    "    \"\"\"\n",
    "    Creates indices for faster lookup\n",
    "\n",
    "    :return: None\n",
    "    \"\"\"\n",
    "    logging.info(\"Creating indices for addresses\")\n",
    "\n",
    "    db_session = get_neo4j_connection()\n",
    "    address_constraint_query = \"CREATE CONSTRAINT IF NOT EXISTS FOR (a:Address) REQUIRE a.id IS UNIQUE\"\n",
    "    db_session.run(address_constraint_query)\n",
    "\n",
    "def load_addresses() -> None:\n",
    "    \"\"\"\n",
    "    Loads addresses from OpenAddresses and attaches them to the\n",
    "    nearest intersection\n",
    "\n",
    "    :return: None\n",
    "    \"\"\"\n",
    "    logging.info(\"Loading addresses into neo4j...\")\n",
    "\n",
    "    db_session = get_neo4j_connection()\n",
    "    load_address_query = '''\n",
    "    CALL apoc.periodic.iterate(\n",
    "        'CALL apoc.load.json(\"file:///source.geojson\") YIELD value',\n",
    "        'CREATE (a:Address {id: value.properties.id})\n",
    "        SET a.location = \n",
    "            point({latitude: value.geometry.coordinates[1], longitude: value.geometry.coordinates[0]}),\n",
    "            a.full_address = value.properties.number + \" \" + value.properties.street + \" \" + value.properties.city + \", MX \" + value.properties.postcode\n",
    "        SET a += value.properties',\n",
    "    {batchSize:10000, parallel:true})\n",
    "    '''\n",
    "    db_session.run(load_address_query)"
   ]
  },
  {
   "cell_type": "code",
   "execution_count": 12,
   "metadata": {},
   "outputs": [],
   "source": [
    "create_indices()"
   ]
  },
  {
   "cell_type": "code",
   "execution_count": 16,
   "metadata": {},
   "outputs": [],
   "source": [
    "load_addresses()"
   ]
  }
 ],
 "metadata": {
  "kernelspec": {
   "display_name": "venv",
   "language": "python",
   "name": "python3"
  },
  "language_info": {
   "codemirror_mode": {
    "name": "ipython",
    "version": 3
   },
   "file_extension": ".py",
   "mimetype": "text/x-python",
   "name": "python",
   "nbconvert_exporter": "python",
   "pygments_lexer": "ipython3",
   "version": "3.11.4"
  },
  "orig_nbformat": 4
 },
 "nbformat": 4,
 "nbformat_minor": 2
}
