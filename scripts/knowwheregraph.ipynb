{
 "cells": [
  {
   "cell_type": "markdown",
   "metadata": {},
   "source": [
    "## Working with KnowWhereGraph RDF"
   ]
  },
  {
   "cell_type": "code",
   "execution_count": 1,
   "metadata": {},
   "outputs": [],
   "source": [
    "import logging\n",
    "import requests\n",
    "import urllib.parse\n"
   ]
  },
  {
   "cell_type": "code",
   "execution_count": 2,
   "metadata": {},
   "outputs": [],
   "source": [
    "prefix = \"\"\"\n",
    "PREFIX rdf: <http://www.w3.org/1999/02/22-rdf-syntax-ns#>\n",
    "PREFIX rdfs: <http://www.w3.org/2000/01/rdf-schema#>\n",
    "PREFIX xsd: <http://www.w3.org/2001/XMLSchema#>\n",
    "PREFIX owl: <http://www.w3.org/2002/07/owl#>\n",
    "PREFIX kwgr: <http://stko-kwg.geog.ucsb.edu/lod/resource/>\n",
    "PREFIX kwg-ont: <http://stko-kwg.geog.ucsb.edu/lod/ontology/>\n",
    "PREFIX geo: <http://www.opengis.net/ont/geosparql#>\n",
    "PREFIX time: <http://www.w3.org/2006/time#>\n",
    "PREFIX iospress: <http://ld.iospress.nl/rdf/ontology/>\n",
    "\"\"\""
   ]
  },
  {
   "cell_type": "code",
   "execution_count": 4,
   "metadata": {},
   "outputs": [],
   "source": [
    "\n",
    "def fetch_query_results(query: str) -> None:\n",
    "    \"\"\"\n",
    "    Runs a SPARQL query and saves the results in CSV\n",
    "\n",
    "    :param query:\n",
    "    :param filename: The name ofthe file to write  results to\n",
    "    :return: None\n",
    "    \"\"\"\n",
    "    query = urllib.parse.quote_plus(query)\n",
    "    resp = requests.get(\n",
    "        f\"https://stko-kwg.geog.ucsb.edu/graphdb/repositories/KWG-V2-Vienna?query={query}&Accept=text/csv\"\n",
    "    ).text\n",
    "    print(resp)"
   ]
  },
  {
   "cell_type": "code",
   "execution_count": 5,
   "metadata": {},
   "outputs": [],
   "source": [
    "def get_expert_expertise() -> None:\n",
    "    \"\"\"\n",
    "    Retrieves all the experts and their expertise and writes them to disk.\n",
    "\n",
    "    :return: None\n",
    "    \"\"\"\n",
    "    logging.info(\"Downloading Expertise Data...\")\n",
    "    query = f\"\"\"\n",
    "            {prefix}\n",
    "            SELECT ?expert_name ?predicate ?expertiseLabel\n",
    "                WHERE {{\n",
    "                ?entity rdf:type iospress:Contributor.\n",
    "                ?entity rdfs:label ?expert_name.\n",
    "                ?entity kwg-ont:hasExpertise ?expertise.\n",
    "                ?expertise rdfs:label ?expertiseLabel.\n",
    "                BIND (\"is an expert in\" as ?predicate)\n",
    "            }}\n",
    "            \"\"\"\n",
    "    fetch_query_results(query)\n",
    "    logging.info(\"Finished Downloading Expertise Data\")"
   ]
  },
  {
   "cell_type": "markdown",
   "metadata": {},
   "source": [
    "##### References\n",
    "https://github.com/ThomasThelen/KWG-Expert-RAG"
   ]
  }
 ],
 "metadata": {
  "kernelspec": {
   "display_name": "venv",
   "language": "python",
   "name": "python3"
  },
  "language_info": {
   "codemirror_mode": {
    "name": "ipython",
    "version": 3
   },
   "file_extension": ".py",
   "mimetype": "text/x-python",
   "name": "python",
   "nbconvert_exporter": "python",
   "pygments_lexer": "ipython3",
   "version": "3.11.4"
  }
 },
 "nbformat": 4,
 "nbformat_minor": 2
}
