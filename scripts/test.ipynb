{
 "cells": [
  {
   "cell_type": "code",
   "execution_count": 2,
   "metadata": {},
   "outputs": [
    {
     "ename": "OSError",
     "evalue": "[WinError 123] The filename, directory name, or volume label syntax is incorrect: 'file:///'",
     "output_type": "error",
     "traceback": [
      "\u001b[1;31m---------------------------------------------------------------------------\u001b[0m",
      "\u001b[1;31mOSError\u001b[0m                                   Traceback (most recent call last)",
      "\u001b[1;32mc:\\Users\\Dee\\root\\Projects\\dev\\devGraph\\graphCraft\\scripts\\test.ipynb Cell 1\u001b[0m line \u001b[0;36m1\n\u001b[0;32m     <a href='vscode-notebook-cell:/c%3A/Users/Dee/root/Projects/dev/devGraph/graphCraft/scripts/test.ipynb#W0sZmlsZQ%3D%3D?line=14'>15</a>\u001b[0m directory_path \u001b[39m=\u001b[39m \u001b[39m\"\u001b[39m\u001b[39mfile:///\u001b[39m\u001b[39m\"\u001b[39m\n\u001b[0;32m     <a href='vscode-notebook-cell:/c%3A/Users/Dee/root/Projects/dev/devGraph/graphCraft/scripts/test.ipynb#W0sZmlsZQ%3D%3D?line=16'>17</a>\u001b[0m \u001b[39m# List files in the directory\u001b[39;00m\n\u001b[1;32m---> <a href='vscode-notebook-cell:/c%3A/Users/Dee/root/Projects/dev/devGraph/graphCraft/scripts/test.ipynb#W0sZmlsZQ%3D%3D?line=17'>18</a>\u001b[0m files \u001b[39m=\u001b[39m os\u001b[39m.\u001b[39;49mlistdir(directory_path)\n\u001b[0;32m     <a href='vscode-notebook-cell:/c%3A/Users/Dee/root/Projects/dev/devGraph/graphCraft/scripts/test.ipynb#W0sZmlsZQ%3D%3D?line=19'>20</a>\u001b[0m \u001b[39m# Connect to Neo4j\u001b[39;00m\n\u001b[0;32m     <a href='vscode-notebook-cell:/c%3A/Users/Dee/root/Projects/dev/devGraph/graphCraft/scripts/test.ipynb#W0sZmlsZQ%3D%3D?line=20'>21</a>\u001b[0m driver \u001b[39m=\u001b[39m GraphDatabase\u001b[39m.\u001b[39mdriver(uri, auth\u001b[39m=\u001b[39m(user, password))\n",
      "\u001b[1;31mOSError\u001b[0m: [WinError 123] The filename, directory name, or volume label syntax is incorrect: 'file:///'"
     ]
    }
   ],
   "source": [
    "from neo4j import GraphDatabase\n",
    "import os\n",
    "\n",
    "# Neo4j connection setup\n",
    "uri = \"bolt://localhost:7687\"\n",
    "user = \"neo4j\"\n",
    "password = \"neo4j222\"\n",
    "\n",
    "def insert_file_node(tx, file_name):\n",
    "    # Cypher query to create a node for the file\n",
    "    query = \"CREATE (:File {name: $name})\"\n",
    "    tx.run(query, name=file_name)\n",
    "\n",
    "# Directory containing the files\n",
    "directory_path = \"file:///\"\n",
    "\n",
    "# List files in the directory\n",
    "files = os.listdir(directory_path)\n",
    "\n",
    "# Connect to Neo4j\n",
    "driver = GraphDatabase.driver(uri, auth=(user, password))\n",
    "\n",
    "# Insert each file into Neo4j\n",
    "with driver.session() as session:\n",
    "    for file_name in files:\n",
    "        session.write_transaction(insert_file_node, file_name)\n",
    "\n",
    "# Close the Neo4j driver\n",
    "driver.close()\n"
   ]
  }
 ],
 "metadata": {
  "kernelspec": {
   "display_name": "venv",
   "language": "python",
   "name": "python3"
  },
  "language_info": {
   "codemirror_mode": {
    "name": "ipython",
    "version": 3
   },
   "file_extension": ".py",
   "mimetype": "text/x-python",
   "name": "python",
   "nbconvert_exporter": "python",
   "pygments_lexer": "ipython3",
   "version": "3.11.4"
  },
  "orig_nbformat": 4
 },
 "nbformat": 4,
 "nbformat_minor": 2
}
